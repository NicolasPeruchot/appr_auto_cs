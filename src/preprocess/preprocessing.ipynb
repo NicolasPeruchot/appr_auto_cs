{
 "cells": [
  {
   "cell_type": "code",
   "execution_count": 2,
   "id": "2489164a",
   "metadata": {},
   "outputs": [],
   "source": [
    "import pandas as pd\n",
    "import numpy as np\n",
    "import matplotlib.pyplot as plt\n",
    "import seaborn as sns"
   ]
  },
  {
   "cell_type": "code",
   "execution_count": 4,
   "id": "6c81679e",
   "metadata": {},
   "outputs": [],
   "source": [
    "data_test=pd.read_csv('../../data/test_airbnb_berlin.xls')\n",
    "data_train=pd.read_csv('../../data/train_airbnb_berlin.xls')"
   ]
  },
  {
   "cell_type": "code",
   "execution_count": 5,
   "id": "2bafa542",
   "metadata": {},
   "outputs": [
    {
     "name": "stdout",
     "output_type": "stream",
     "text": [
      "number row : 15692\n",
      "number columns : 39\n"
     ]
    }
   ],
   "source": [
    "\"\"\"\n",
    "data viz\n",
    "\"\"\"\n",
    "\n",
    "data_train.head(15)\n",
    "\n",
    "# computing number of rows\n",
    "rows = len(data_train.axes[0])\n",
    "print('number row :',rows)\n",
    "# computing number of columns\n",
    "cols = len(data_train.axes[1])\n",
    "print('number columns :',cols)"
   ]
  },
  {
   "cell_type": "code",
   "execution_count": 6,
   "id": "53536aa5",
   "metadata": {},
   "outputs": [
    {
     "data": {
      "text/plain": [
       "array(['Listing ID', 'Listing Name', 'Host ID', 'Host Name', 'Host Since',\n",
       "       'Host Response Time', 'Host Response Rate', 'Is Superhost',\n",
       "       'neighbourhood', 'Neighborhood Group', 'City', 'Postal Code',\n",
       "       'Country Code', 'Country', 'Latitude', 'Longitude',\n",
       "       'Is Exact Location', 'Property Type', 'Room Type', 'Accomodates',\n",
       "       'Bathrooms', 'Bedrooms', 'Beds', 'Square Feet', 'Guests Included',\n",
       "       'Min Nights', 'Reviews', 'First Review', 'Last Review',\n",
       "       'Overall Rating', 'Accuracy Rating', 'Cleanliness Rating',\n",
       "       'Checkin Rating', 'Communication Rating', 'Location Rating',\n",
       "       'Value Rating', 'Instant Bookable', 'Business Travel Ready',\n",
       "       'Price'], dtype=object)"
      ]
     },
     "execution_count": 6,
     "metadata": {},
     "output_type": "execute_result"
    }
   ],
   "source": [
    "data_train.columns.values"
   ]
  },
  {
   "cell_type": "code",
   "execution_count": 7,
   "id": "ac5bb874",
   "metadata": {},
   "outputs": [
    {
     "data": {
      "text/html": [
       "<div>\n",
       "<style scoped>\n",
       "    .dataframe tbody tr th:only-of-type {\n",
       "        vertical-align: middle;\n",
       "    }\n",
       "\n",
       "    .dataframe tbody tr th {\n",
       "        vertical-align: top;\n",
       "    }\n",
       "\n",
       "    .dataframe thead th {\n",
       "        text-align: right;\n",
       "    }\n",
       "</style>\n",
       "<table border=\"1\" class=\"dataframe\">\n",
       "  <thead>\n",
       "    <tr style=\"text-align: right;\">\n",
       "      <th></th>\n",
       "      <th>Listing ID</th>\n",
       "      <th>Listing Name</th>\n",
       "      <th>Host ID</th>\n",
       "      <th>Host Name</th>\n",
       "      <th>Host Since</th>\n",
       "      <th>Host Response Time</th>\n",
       "      <th>Host Response Rate</th>\n",
       "      <th>Is Superhost</th>\n",
       "      <th>neighbourhood</th>\n",
       "      <th>Neighborhood Group</th>\n",
       "      <th>...</th>\n",
       "      <th>Overall Rating</th>\n",
       "      <th>Accuracy Rating</th>\n",
       "      <th>Cleanliness Rating</th>\n",
       "      <th>Checkin Rating</th>\n",
       "      <th>Communication Rating</th>\n",
       "      <th>Location Rating</th>\n",
       "      <th>Value Rating</th>\n",
       "      <th>Instant Bookable</th>\n",
       "      <th>Business Travel Ready</th>\n",
       "      <th>Price</th>\n",
       "    </tr>\n",
       "  </thead>\n",
       "  <tbody>\n",
       "    <tr>\n",
       "      <th>0</th>\n",
       "      <td>19665213.0</td>\n",
       "      <td>*</td>\n",
       "      <td>156079597.0</td>\n",
       "      <td>Maximilian</td>\n",
       "      <td>2016-01-20</td>\n",
       "      <td>NaN</td>\n",
       "      <td>NaN</td>\n",
       "      <td>f</td>\n",
       "      <td>Prenzlauer Berg</td>\n",
       "      <td>Pankow</td>\n",
       "      <td>...</td>\n",
       "      <td>100.0</td>\n",
       "      <td>10.0</td>\n",
       "      <td>10.0</td>\n",
       "      <td>10.0</td>\n",
       "      <td>10.0</td>\n",
       "      <td>9.0</td>\n",
       "      <td>10.0</td>\n",
       "      <td>t</td>\n",
       "      <td>f</td>\n",
       "      <td>26.0</td>\n",
       "    </tr>\n",
       "  </tbody>\n",
       "</table>\n",
       "<p>1 rows × 39 columns</p>\n",
       "</div>"
      ],
      "text/plain": [
       "   Listing ID Listing Name      Host ID   Host Name  Host Since  \\\n",
       "0  19665213.0            *  156079597.0  Maximilian  2016-01-20   \n",
       "\n",
       "  Host Response Time Host Response Rate Is Superhost    neighbourhood  \\\n",
       "0                NaN                NaN            f  Prenzlauer Berg   \n",
       "\n",
       "  Neighborhood Group  ... Overall Rating Accuracy Rating Cleanliness Rating  \\\n",
       "0             Pankow  ...          100.0            10.0               10.0   \n",
       "\n",
       "  Checkin Rating  Communication Rating  Location Rating Value Rating  \\\n",
       "0           10.0                  10.0              9.0         10.0   \n",
       "\n",
       "  Instant Bookable Business Travel Ready Price  \n",
       "0                t                     f  26.0  \n",
       "\n",
       "[1 rows x 39 columns]"
      ]
     },
     "execution_count": 7,
     "metadata": {},
     "output_type": "execute_result"
    }
   ],
   "source": [
    "data_train.head(1)"
   ]
  },
  {
   "cell_type": "code",
   "execution_count": 101,
   "id": "983cb1f1",
   "metadata": {},
   "outputs": [],
   "source": [
    "data_train=data_train.drop(['Listing Name', 'Host ID', 'Host Name', 'Host Since','Is Exact Location',\n",
    "        'Country', 'First Review', 'Last Review','City', 'Postal Code','Country Code'], axis=1)"
   ]
  },
  {
   "cell_type": "code",
   "execution_count": 45,
   "id": "6bb89ed6",
   "metadata": {},
   "outputs": [
    {
     "name": "stdout",
     "output_type": "stream",
     "text": [
      "Listing ID => 1 [0.01%]\n",
      "Listing Name => 54 [0.34%]\n",
      "Host Name => 22 [0.14%]\n",
      "Host Since => 21 [0.13%]\n",
      "Is Superhost => 23 [0.15%]\n",
      "City => 1 [0.01%]\n",
      "Postal Code => 229 [1.46%]\n",
      "First Review => 2692 [17.19%]\n",
      "Last Review => 2693 [17.2%]\n",
      "Overall Rating => 2949 [18.84%]\n",
      "Accuracy Rating => 2958 [18.89%]\n",
      "Cleanliness Rating => 2957 [18.89%]\n",
      "Checkin Rating => 2960 [18.91%]\n",
      "Communication Rating => 2957 [18.89%]\n",
      "Location Rating => 2958 [18.89%]\n",
      "Value Rating => 2959 [18.9%]\n",
      "True\n"
     ]
    }
   ],
   "source": [
    "#liste des features autour de 18% de \"missing\"\n",
    "listfeatures=[] \n",
    "\n",
    "def missing(df):\n",
    "    total = 0\n",
    "    for col in df.columns:\n",
    "        miss = df[col].isnull().sum()\n",
    "        pct = df[col].isna().mean() * 100\n",
    "        total += miss\n",
    "        if miss != 0:\n",
    "            print('{} => {} [{}%]'.format(col, df[col].isnull().sum(), round(pct, 2)))\n",
    "            if pct>15 and pct <25 :\n",
    "                listfeatures.append(col)\n",
    "        #else:\n",
    "        #    print('{} => {} '.format(col, 'no missing value'))\n",
    "\n",
    "    if total == 0:\n",
    "        print(\"no missing values\")\n",
    "        \n",
    "missing(data_train)"
   ]
  },
  {
   "cell_type": "code",
   "execution_count": 11,
   "id": "68455134",
   "metadata": {},
   "outputs": [
    {
     "ename": "KeyError",
     "evalue": "\"['Square Feet', 'Host Response Time', 'Host Response Rate'] not found in axis\"",
     "output_type": "error",
     "traceback": [
      "\u001b[1;31m---------------------------------------------------------------------------\u001b[0m",
      "\u001b[1;31mKeyError\u001b[0m                                  Traceback (most recent call last)",
      "Cell \u001b[1;32mIn [11], line 1\u001b[0m\n\u001b[1;32m----> 1\u001b[0m data_train\u001b[39m=\u001b[39mdata_train\u001b[39m.\u001b[39mdrop([\u001b[39m'\u001b[39m\u001b[39mSquare Feet\u001b[39m\u001b[39m'\u001b[39m,\u001b[39m'\u001b[39m\u001b[39mHost Response Time\u001b[39m\u001b[39m'\u001b[39m,\u001b[39m'\u001b[39m\u001b[39mHost Response Rate\u001b[39m\u001b[39m'\u001b[39m], axis\u001b[39m=\u001b[39m\u001b[39m1\u001b[39m)\n",
      "File \u001b[1;32mc:\\Users\\USER\\AppData\\Local\\Programs\\Python\\Python310\\lib\\site-packages\\pandas\\util\\_decorators.py:311\u001b[0m, in \u001b[0;36mdeprecate_nonkeyword_arguments.<locals>.decorate.<locals>.wrapper\u001b[1;34m(*args, **kwargs)\u001b[0m\n\u001b[0;32m    305\u001b[0m \u001b[39mif\u001b[39;00m \u001b[39mlen\u001b[39m(args) \u001b[39m>\u001b[39m num_allow_args:\n\u001b[0;32m    306\u001b[0m     warnings\u001b[39m.\u001b[39mwarn(\n\u001b[0;32m    307\u001b[0m         msg\u001b[39m.\u001b[39mformat(arguments\u001b[39m=\u001b[39marguments),\n\u001b[0;32m    308\u001b[0m         \u001b[39mFutureWarning\u001b[39;00m,\n\u001b[0;32m    309\u001b[0m         stacklevel\u001b[39m=\u001b[39mstacklevel,\n\u001b[0;32m    310\u001b[0m     )\n\u001b[1;32m--> 311\u001b[0m \u001b[39mreturn\u001b[39;00m func(\u001b[39m*\u001b[39margs, \u001b[39m*\u001b[39m\u001b[39m*\u001b[39mkwargs)\n",
      "File \u001b[1;32mc:\\Users\\USER\\AppData\\Local\\Programs\\Python\\Python310\\lib\\site-packages\\pandas\\core\\frame.py:4954\u001b[0m, in \u001b[0;36mDataFrame.drop\u001b[1;34m(self, labels, axis, index, columns, level, inplace, errors)\u001b[0m\n\u001b[0;32m   4806\u001b[0m \u001b[39m@deprecate_nonkeyword_arguments\u001b[39m(version\u001b[39m=\u001b[39m\u001b[39mNone\u001b[39;00m, allowed_args\u001b[39m=\u001b[39m[\u001b[39m\"\u001b[39m\u001b[39mself\u001b[39m\u001b[39m\"\u001b[39m, \u001b[39m\"\u001b[39m\u001b[39mlabels\u001b[39m\u001b[39m\"\u001b[39m])\n\u001b[0;32m   4807\u001b[0m \u001b[39mdef\u001b[39;00m \u001b[39mdrop\u001b[39m(\n\u001b[0;32m   4808\u001b[0m     \u001b[39mself\u001b[39m,\n\u001b[1;32m   (...)\u001b[0m\n\u001b[0;32m   4815\u001b[0m     errors: \u001b[39mstr\u001b[39m \u001b[39m=\u001b[39m \u001b[39m\"\u001b[39m\u001b[39mraise\u001b[39m\u001b[39m\"\u001b[39m,\n\u001b[0;32m   4816\u001b[0m ):\n\u001b[0;32m   4817\u001b[0m     \u001b[39m\"\"\"\u001b[39;00m\n\u001b[0;32m   4818\u001b[0m \u001b[39m    Drop specified labels from rows or columns.\u001b[39;00m\n\u001b[0;32m   4819\u001b[0m \n\u001b[1;32m   (...)\u001b[0m\n\u001b[0;32m   4952\u001b[0m \u001b[39m            weight  1.0     0.8\u001b[39;00m\n\u001b[0;32m   4953\u001b[0m \u001b[39m    \"\"\"\u001b[39;00m\n\u001b[1;32m-> 4954\u001b[0m     \u001b[39mreturn\u001b[39;00m \u001b[39msuper\u001b[39;49m()\u001b[39m.\u001b[39;49mdrop(\n\u001b[0;32m   4955\u001b[0m         labels\u001b[39m=\u001b[39;49mlabels,\n\u001b[0;32m   4956\u001b[0m         axis\u001b[39m=\u001b[39;49maxis,\n\u001b[0;32m   4957\u001b[0m         index\u001b[39m=\u001b[39;49mindex,\n\u001b[0;32m   4958\u001b[0m         columns\u001b[39m=\u001b[39;49mcolumns,\n\u001b[0;32m   4959\u001b[0m         level\u001b[39m=\u001b[39;49mlevel,\n\u001b[0;32m   4960\u001b[0m         inplace\u001b[39m=\u001b[39;49minplace,\n\u001b[0;32m   4961\u001b[0m         errors\u001b[39m=\u001b[39;49merrors,\n\u001b[0;32m   4962\u001b[0m     )\n",
      "File \u001b[1;32mc:\\Users\\USER\\AppData\\Local\\Programs\\Python\\Python310\\lib\\site-packages\\pandas\\core\\generic.py:4267\u001b[0m, in \u001b[0;36mNDFrame.drop\u001b[1;34m(self, labels, axis, index, columns, level, inplace, errors)\u001b[0m\n\u001b[0;32m   4265\u001b[0m \u001b[39mfor\u001b[39;00m axis, labels \u001b[39min\u001b[39;00m axes\u001b[39m.\u001b[39mitems():\n\u001b[0;32m   4266\u001b[0m     \u001b[39mif\u001b[39;00m labels \u001b[39mis\u001b[39;00m \u001b[39mnot\u001b[39;00m \u001b[39mNone\u001b[39;00m:\n\u001b[1;32m-> 4267\u001b[0m         obj \u001b[39m=\u001b[39m obj\u001b[39m.\u001b[39;49m_drop_axis(labels, axis, level\u001b[39m=\u001b[39;49mlevel, errors\u001b[39m=\u001b[39;49merrors)\n\u001b[0;32m   4269\u001b[0m \u001b[39mif\u001b[39;00m inplace:\n\u001b[0;32m   4270\u001b[0m     \u001b[39mself\u001b[39m\u001b[39m.\u001b[39m_update_inplace(obj)\n",
      "File \u001b[1;32mc:\\Users\\USER\\AppData\\Local\\Programs\\Python\\Python310\\lib\\site-packages\\pandas\\core\\generic.py:4311\u001b[0m, in \u001b[0;36mNDFrame._drop_axis\u001b[1;34m(self, labels, axis, level, errors, consolidate, only_slice)\u001b[0m\n\u001b[0;32m   4309\u001b[0m         new_axis \u001b[39m=\u001b[39m axis\u001b[39m.\u001b[39mdrop(labels, level\u001b[39m=\u001b[39mlevel, errors\u001b[39m=\u001b[39merrors)\n\u001b[0;32m   4310\u001b[0m     \u001b[39melse\u001b[39;00m:\n\u001b[1;32m-> 4311\u001b[0m         new_axis \u001b[39m=\u001b[39m axis\u001b[39m.\u001b[39;49mdrop(labels, errors\u001b[39m=\u001b[39;49merrors)\n\u001b[0;32m   4312\u001b[0m     indexer \u001b[39m=\u001b[39m axis\u001b[39m.\u001b[39mget_indexer(new_axis)\n\u001b[0;32m   4314\u001b[0m \u001b[39m# Case for non-unique axis\u001b[39;00m\n\u001b[0;32m   4315\u001b[0m \u001b[39melse\u001b[39;00m:\n",
      "File \u001b[1;32mc:\\Users\\USER\\AppData\\Local\\Programs\\Python\\Python310\\lib\\site-packages\\pandas\\core\\indexes\\base.py:6644\u001b[0m, in \u001b[0;36mIndex.drop\u001b[1;34m(self, labels, errors)\u001b[0m\n\u001b[0;32m   6642\u001b[0m \u001b[39mif\u001b[39;00m mask\u001b[39m.\u001b[39many():\n\u001b[0;32m   6643\u001b[0m     \u001b[39mif\u001b[39;00m errors \u001b[39m!=\u001b[39m \u001b[39m\"\u001b[39m\u001b[39mignore\u001b[39m\u001b[39m\"\u001b[39m:\n\u001b[1;32m-> 6644\u001b[0m         \u001b[39mraise\u001b[39;00m \u001b[39mKeyError\u001b[39;00m(\u001b[39mf\u001b[39m\u001b[39m\"\u001b[39m\u001b[39m{\u001b[39;00m\u001b[39mlist\u001b[39m(labels[mask])\u001b[39m}\u001b[39;00m\u001b[39m not found in axis\u001b[39m\u001b[39m\"\u001b[39m)\n\u001b[0;32m   6645\u001b[0m     indexer \u001b[39m=\u001b[39m indexer[\u001b[39m~\u001b[39mmask]\n\u001b[0;32m   6646\u001b[0m \u001b[39mreturn\u001b[39;00m \u001b[39mself\u001b[39m\u001b[39m.\u001b[39mdelete(indexer)\n",
      "\u001b[1;31mKeyError\u001b[0m: \"['Square Feet', 'Host Response Time', 'Host Response Rate'] not found in axis\""
     ]
    }
   ],
   "source": [
    "data_train=data_train.drop(['Square Feet','Host Response Time','Host Response Rate'], axis=1)"
   ]
  },
  {
   "cell_type": "code",
   "execution_count": 14,
   "id": "ed6e0ed2",
   "metadata": {},
   "outputs": [],
   "source": [
    "for j in ['Price','Bathrooms','Bedrooms','Beds']:\n",
    "    for i in data_train[data_train[j].isna()== True].index:\n",
    "        data_train=data_train.drop(i, axis=0) #drop data where price is NaN"
   ]
  },
  {
   "cell_type": "code",
   "execution_count": 25,
   "id": "e6808a25",
   "metadata": {},
   "outputs": [
    {
     "data": {
      "text/plain": [
       "0    10.0\n",
       "Name: Checkin Rating, dtype: float64"
      ]
     },
     "execution_count": 25,
     "metadata": {},
     "output_type": "execute_result"
    }
   ],
   "source": [
    "data_train['Checkin Rating'].head(1)"
   ]
  },
  {
   "cell_type": "markdown",
   "id": "c739cd7a",
   "metadata": {},
   "source": [
    "__Recherche de corrélations entre les features présentant un taux de missing value \"NaN\" autour de 18%__\n",
    "\n",
    "On va s'aider de la liste **listfeatures** définie plus tôt\n"
   ]
  },
  {
   "cell_type": "code",
   "execution_count": 46,
   "id": "3c91b396",
   "metadata": {},
   "outputs": [
    {
     "name": "stderr",
     "output_type": "stream",
     "text": [
      "C:\\Users\\USER\\AppData\\Local\\Temp\\ipykernel_4416\\61146275.py:11: UserWarning: Boolean Series key will be reindexed to match DataFrame index.\n",
      "  bothmiss=len(data_train[data_train[q].isna()== True][data_train[p].isna()== True].axes[0])\n"
     ]
    },
    {
     "name": "stdout",
     "output_type": "stream",
     "text": [
      "Pourcentage minimal de corrélation entre deux features de la liste : 90.95% \n",
      "\n",
      "[[1.         1.         1.         1.         1.         1.\n",
      "  1.         1.         1.        ]\n",
      " [0.99962867 1.         1.         1.         1.         1.\n",
      "  1.         1.         1.        ]\n",
      " [0.91285181 0.91319091 1.         1.         1.         1.\n",
      "  1.         1.         1.        ]\n",
      " [0.91007437 0.91041244 0.9969574  1.         0.99966193 1.\n",
      "  0.99966193 0.99966193 0.99966193]\n",
      " [0.91038214 0.91072032 0.99729456 1.         1.         1.\n",
      "  1.         1.         1.        ]\n",
      " [0.90945946 0.9097973  0.99628378 0.99932432 0.99898649 1.\n",
      "  0.99898649 0.99932432 0.99932432]\n",
      " [0.91038214 0.91072032 0.99729456 1.         1.         1.\n",
      "  1.         1.         1.        ]\n",
      " [0.91007437 0.91041244 0.9969574  0.99966193 0.99966193 1.\n",
      "  0.99966193 1.         1.        ]\n",
      " [0.90976681 0.91010477 0.99662048 0.9993241  0.9993241  0.99966205\n",
      "  0.9993241  0.99966205 1.        ]]\n"
     ]
    }
   ],
   "source": [
    "#tableau de correlation de \"missing\" entre deux features\n",
    "tablefeatures=np.ones((len(listfeatures),len(listfeatures)))\n",
    "\n",
    "#calcul des corrélations de missing entre deux features\n",
    "index1=0 \n",
    "for q in listfeatures:\n",
    "    nanrows=len(data_train[data_train[q].isna()== True].axes[0])\n",
    "    index2=0\n",
    "    for p in listfeatures :\n",
    "        if q!=p:\n",
    "            bothmiss=len(data_train[data_train[q].isna()== True][data_train[p].isna()== True].axes[0])\n",
    "        #print (\"P(\"+q+\" et \"+p+\" vaut NaN) =\" + str(bothmiss/nanrows))\n",
    "            tablefeatures[index1,index2]=bothmiss/nanrows\n",
    "        index2+=1\n",
    "    index1+=1   \n",
    "\n",
    "#affichage du tableau de corrélations\n",
    "print(\"Pourcentage minimal de corrélation entre deux features de la liste : \" + str(round(tablefeatures.min()*100,2)) + \"% \\n\")\n",
    "print(tablefeatures)"
   ]
  },
  {
   "cell_type": "markdown",
   "id": "5896d4a1",
   "metadata": {},
   "source": [
    "On peut donc raisonnablement affirmer que ces features sont de type MNAR : une listwise deletion n'est donc pas conseillée (et avec 18% d'instances concernées, ce n'est pas idéal)"
   ]
  }
 ],
 "metadata": {
  "kernelspec": {
   "display_name": "Python 3.10.6 64-bit",
   "language": "python",
   "name": "python3"
  },
  "language_info": {
   "codemirror_mode": {
    "name": "ipython",
    "version": 3
   },
   "file_extension": ".py",
   "mimetype": "text/x-python",
   "name": "python",
   "nbconvert_exporter": "python",
   "pygments_lexer": "ipython3",
   "version": "3.10.6"
  },
  "vscode": {
   "interpreter": {
    "hash": "df95319d8ce4e1d89f5365ae10992bc1f65da593082b1d264e8f529830ec2f02"
   }
  }
 },
 "nbformat": 4,
 "nbformat_minor": 5
}
