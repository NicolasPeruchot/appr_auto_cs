{
 "cells": [
  {
   "cell_type": "code",
   "execution_count": 2,
   "id": "7a528986",
   "metadata": {},
   "outputs": [],
   "source": [
    "from preprocess import drop_useless"
   ]
  },
  {
   "cell_type": "code",
   "execution_count": 3,
   "id": "2489164a",
   "metadata": {},
   "outputs": [],
   "source": [
    "import pandas as pd\n",
    "import numpy as np\n",
    "import matplotlib.pyplot as plt"
   ]
  },
  {
   "cell_type": "code",
   "execution_count": 4,
   "id": "6c81679e",
   "metadata": {},
   "outputs": [],
   "source": [
    "data_test=pd.read_csv('../../data/test_airbnb_berlin.xls')\n",
    "data_train=pd.read_csv('../../data/train_airbnb_berlin.xls')"
   ]
  },
  {
   "cell_type": "code",
   "execution_count": 5,
   "id": "2bafa542",
   "metadata": {},
   "outputs": [
    {
     "name": "stdout",
     "output_type": "stream",
     "text": [
      "number row : 15692\n",
      "number columns : 39\n"
     ]
    }
   ],
   "source": [
    "#Data visualisation\n",
    "\n",
    "# computing number of rows\n",
    "rows = len(data_train.axes[0])\n",
    "print('number row :',rows)\n",
    "# computing number of columns\n",
    "cols = len(data_train.axes[1])\n",
    "print('number columns :',cols)"
   ]
  },
  {
   "cell_type": "code",
   "execution_count": 6,
   "id": "53536aa5",
   "metadata": {},
   "outputs": [
    {
     "data": {
      "text/plain": [
       "array(['Listing ID', 'Listing Name', 'Host ID', 'Host Name', 'Host Since',\n",
       "       'Host Response Time', 'Host Response Rate', 'Is Superhost',\n",
       "       'neighbourhood', 'Neighborhood Group', 'City', 'Postal Code',\n",
       "       'Country Code', 'Country', 'Latitude', 'Longitude',\n",
       "       'Is Exact Location', 'Property Type', 'Room Type', 'Accomodates',\n",
       "       'Bathrooms', 'Bedrooms', 'Beds', 'Square Feet', 'Guests Included',\n",
       "       'Min Nights', 'Reviews', 'First Review', 'Last Review',\n",
       "       'Overall Rating', 'Accuracy Rating', 'Cleanliness Rating',\n",
       "       'Checkin Rating', 'Communication Rating', 'Location Rating',\n",
       "       'Value Rating', 'Instant Bookable', 'Business Travel Ready',\n",
       "       'Price'], dtype=object)"
      ]
     },
     "execution_count": 6,
     "metadata": {},
     "output_type": "execute_result"
    }
   ],
   "source": [
    "data_train.columns.values"
   ]
  },
  {
   "cell_type": "code",
   "execution_count": 7,
   "id": "ac5bb874",
   "metadata": {},
   "outputs": [
    {
     "data": {
      "text/html": [
       "<div>\n",
       "<style scoped>\n",
       "    .dataframe tbody tr th:only-of-type {\n",
       "        vertical-align: middle;\n",
       "    }\n",
       "\n",
       "    .dataframe tbody tr th {\n",
       "        vertical-align: top;\n",
       "    }\n",
       "\n",
       "    .dataframe thead th {\n",
       "        text-align: right;\n",
       "    }\n",
       "</style>\n",
       "<table border=\"1\" class=\"dataframe\">\n",
       "  <thead>\n",
       "    <tr style=\"text-align: right;\">\n",
       "      <th></th>\n",
       "      <th>Listing ID</th>\n",
       "      <th>Listing Name</th>\n",
       "      <th>Host ID</th>\n",
       "      <th>Host Name</th>\n",
       "      <th>Host Since</th>\n",
       "      <th>Host Response Time</th>\n",
       "      <th>Host Response Rate</th>\n",
       "      <th>Is Superhost</th>\n",
       "      <th>neighbourhood</th>\n",
       "      <th>Neighborhood Group</th>\n",
       "      <th>...</th>\n",
       "      <th>Overall Rating</th>\n",
       "      <th>Accuracy Rating</th>\n",
       "      <th>Cleanliness Rating</th>\n",
       "      <th>Checkin Rating</th>\n",
       "      <th>Communication Rating</th>\n",
       "      <th>Location Rating</th>\n",
       "      <th>Value Rating</th>\n",
       "      <th>Instant Bookable</th>\n",
       "      <th>Business Travel Ready</th>\n",
       "      <th>Price</th>\n",
       "    </tr>\n",
       "  </thead>\n",
       "  <tbody>\n",
       "    <tr>\n",
       "      <th>0</th>\n",
       "      <td>19665213.0</td>\n",
       "      <td>*</td>\n",
       "      <td>156079597.0</td>\n",
       "      <td>Maximilian</td>\n",
       "      <td>2016-01-20</td>\n",
       "      <td>NaN</td>\n",
       "      <td>NaN</td>\n",
       "      <td>f</td>\n",
       "      <td>Prenzlauer Berg</td>\n",
       "      <td>Pankow</td>\n",
       "      <td>...</td>\n",
       "      <td>100.0</td>\n",
       "      <td>10.0</td>\n",
       "      <td>10.0</td>\n",
       "      <td>10.0</td>\n",
       "      <td>10.0</td>\n",
       "      <td>9.0</td>\n",
       "      <td>10.0</td>\n",
       "      <td>t</td>\n",
       "      <td>f</td>\n",
       "      <td>26.0</td>\n",
       "    </tr>\n",
       "  </tbody>\n",
       "</table>\n",
       "<p>1 rows × 39 columns</p>\n",
       "</div>"
      ],
      "text/plain": [
       "   Listing ID Listing Name      Host ID   Host Name  Host Since  \\\n",
       "0  19665213.0            *  156079597.0  Maximilian  2016-01-20   \n",
       "\n",
       "  Host Response Time Host Response Rate Is Superhost    neighbourhood  \\\n",
       "0                NaN                NaN            f  Prenzlauer Berg   \n",
       "\n",
       "  Neighborhood Group  ... Overall Rating Accuracy Rating Cleanliness Rating  \\\n",
       "0             Pankow  ...          100.0            10.0               10.0   \n",
       "\n",
       "  Checkin Rating  Communication Rating  Location Rating Value Rating  \\\n",
       "0           10.0                  10.0              9.0         10.0   \n",
       "\n",
       "  Instant Bookable Business Travel Ready Price  \n",
       "0                t                     f  26.0  \n",
       "\n",
       "[1 rows x 39 columns]"
      ]
     },
     "execution_count": 7,
     "metadata": {},
     "output_type": "execute_result"
    }
   ],
   "source": [
    "data_train.head(1)"
   ]
  },
  {
   "cell_type": "code",
   "execution_count": 8,
   "id": "983cb1f1",
   "metadata": {},
   "outputs": [],
   "source": [
    "data_train=drop_useless(data_train)"
   ]
  },
  {
   "cell_type": "markdown",
   "id": "5c3dd137",
   "metadata": {},
   "source": [
    "__Analyse du taux de missing par feature__"
   ]
  },
  {
   "cell_type": "code",
   "execution_count": 9,
   "id": "6bb89ed6",
   "metadata": {},
   "outputs": [
    {
     "name": "stdout",
     "output_type": "stream",
     "text": [
      "Listing ID => 1 [0.01%]\n",
      "Host Response Time => 7075 [45.09%]\n",
      "Host Response Rate => 7075 [45.09%]\n",
      "Is Superhost => 23 [0.15%]\n",
      "Bathrooms => 14 [0.09%]\n",
      "Bedrooms => 5 [0.03%]\n",
      "Beds => 8 [0.05%]\n",
      "Square Feet => 15389 [98.07%]\n",
      "Overall Rating => 2962 [18.88%]\n",
      "Accuracy Rating => 2971 [18.93%]\n",
      "Cleanliness Rating => 2970 [18.93%]\n",
      "Checkin Rating => 2973 [18.95%]\n",
      "Communication Rating => 2970 [18.93%]\n",
      "Location Rating => 2971 [18.93%]\n",
      "Value Rating => 2972 [18.94%]\n",
      "Price => 9 [0.06%]\n"
     ]
    }
   ],
   "source": [
    "#liste des features avec un taux de \"missing\" moyen (~18%)\n",
    "listfeatures=[] \n",
    "\n",
    "def missing(df):\n",
    "    total = 0\n",
    "    for col in df.columns:\n",
    "        miss = df[col].isnull().sum()\n",
    "        pct = df[col].isna().mean() * 100\n",
    "        total += miss\n",
    "        if miss != 0:\n",
    "            print('{} => {} [{}%]'.format(col, df[col].isnull().sum(), round(pct, 2)))\n",
    "            if pct>15 and pct <25 :\n",
    "                listfeatures.append(col)\n",
    "        #else:\n",
    "        #    print('{} => {} '.format(col, 'no missing value'))\n",
    "\n",
    "    if total == 0:\n",
    "        print(\"no missing values\")\n",
    "        \n",
    "missing(data_train)"
   ]
  },
  {
   "cell_type": "markdown",
   "id": "6e6d6ae0",
   "metadata": {},
   "source": [
    "__Gestion des features à taux de \"missing\" extrême__"
   ]
  },
  {
   "cell_type": "markdown",
   "id": "cb23f127",
   "metadata": {},
   "source": [
    "Lorsque l'on regarde les features où il manque moins de 30 données, on se rend compte que l'absence de ces données est MCAR. On se permet donc de supprimer les lignes où ces données sont manquantes. \n",
    "Il y a une exception sur la feature 'Is Superhost': si pour ces host il y a une note générale au dessus de 80, on les catégorises en Superhost, sinon, non. "
   ]
  },
  {
   "cell_type": "code",
   "execution_count": 10,
   "id": "68455134",
   "metadata": {},
   "outputs": [],
   "source": [
    "#Suppression des features à taux de missing trop élevé \n",
    "data_train=data_train.drop(['Square Feet','Host Response Time','Host Response Rate'], axis=1)"
   ]
  },
  {
   "cell_type": "code",
   "execution_count": 11,
   "id": "ed6e0ed2",
   "metadata": {},
   "outputs": [],
   "source": [
    "#Listwise deletion pour les features à taux de missing faible (borne max des rows concernés : 60 /15k = 0.4%)\n",
    "for j in ['Price','Bathrooms','Bedrooms','Beds']:\n",
    "    for i in data_train[data_train[j].isna()== True].index:\n",
    "        data_train=data_train.drop(i, axis=0)"
   ]
  },
  {
   "cell_type": "code",
   "execution_count": 12,
   "id": "6c217f0a",
   "metadata": {},
   "outputs": [],
   "source": [
    "# Gestion des 'Is Superhost' : si le host est noté, et ce au dessus de 80, il est supposé superhost, sinon il ne l'est pas\n",
    "for i in data_train[data_train['Is Superhost'].isna()== True].index:\n",
    "    if data_train.loc[i,'Overall Rating']>=80:\n",
    "        data_train.loc[i,'Is Superhost']='t'\n",
    "    else:\n",
    "        data_train.loc[i,'Is Superhost']='f'"
   ]
  },
  {
   "cell_type": "markdown",
   "id": "c739cd7a",
   "metadata": {},
   "source": [
    "__Recherche de corrélations entre les features présentant un taux de missing value \"NaN\" autour de 18%__\n",
    "\n",
    "On va s'aider de la liste **listfeatures** définie plus tôt\n"
   ]
  },
  {
   "cell_type": "code",
   "execution_count": 13,
   "id": "3c91b396",
   "metadata": {},
   "outputs": [
    {
     "name": "stdout",
     "output_type": "stream",
     "text": [
      "Pourcentage minimal de corrélation entre deux features de la liste : 99.63% \n",
      "\n",
      "[[1.         1.         1.         1.         1.         1.\n",
      "  1.        ]\n",
      " [0.9969574  1.         0.99966193 1.         0.99966193 0.99966193\n",
      "  0.99966193]\n",
      " [0.99729456 1.         1.         1.         1.         1.\n",
      "  1.        ]\n",
      " [0.99628378 0.99932432 0.99898649 1.         0.99898649 0.99932432\n",
      "  0.99932432]\n",
      " [0.99729456 1.         1.         1.         1.         1.\n",
      "  1.        ]\n",
      " [0.9969574  0.99966193 0.99966193 1.         0.99966193 1.\n",
      "  1.        ]\n",
      " [0.99662048 0.9993241  0.9993241  0.99966205 0.9993241  0.99966205\n",
      "  1.        ]]\n"
     ]
    },
    {
     "name": "stderr",
     "output_type": "stream",
     "text": [
      "/var/folders/tn/25cj2t8s21qb6gvxyqbnshnc0000gn/T/ipykernel_55322/2095125057.py:11: UserWarning: Boolean Series key will be reindexed to match DataFrame index.\n",
      "  bothmiss=len(data_train[data_train[q].isna()== True][data_train[p].isna()== True].axes[0])\n"
     ]
    }
   ],
   "source": [
    "#tableau de correlation de \"missing\" entre deux features\n",
    "tablefeatures=np.ones((len(listfeatures),len(listfeatures)))\n",
    "\n",
    "#calcul des corrélations de missing entre deux features\n",
    "index1=0 \n",
    "for q in listfeatures:\n",
    "    nanrows=len(data_train[data_train[q].isna()== True].axes[0])\n",
    "    index2=0\n",
    "    for p in listfeatures :\n",
    "        if q!=p:\n",
    "            bothmiss=len(data_train[data_train[q].isna()== True][data_train[p].isna()== True].axes[0])\n",
    "        #print (\"P(\"+q+\" et \"+p+\" vaut NaN) =\" + str(bothmiss/nanrows))\n",
    "            tablefeatures[index1,index2]=bothmiss/nanrows\n",
    "        index2+=1\n",
    "    index1+=1   \n",
    "\n",
    "#affichage du tableau de corrélations\n",
    "print(\"Pourcentage minimal de corrélation entre deux features de la liste : \" + str(round(tablefeatures.min()*100,2)) + \"% \\n\")\n",
    "print(tablefeatures)"
   ]
  },
  {
   "cell_type": "markdown",
   "id": "5896d4a1",
   "metadata": {},
   "source": [
    "On peut donc raisonnablement affirmer que ces features sont de type MNAR : une listwise deletion n'est donc pas conseillée (et avec 18% d'instances concernées, ce n'est pas idéal)"
   ]
  },
  {
   "cell_type": "markdown",
   "id": "14d7c8c5",
   "metadata": {},
   "source": [
    "__Enregistrement__"
   ]
  },
  {
   "cell_type": "markdown",
   "id": "224c839c",
   "metadata": {},
   "source": []
  }
 ],
 "metadata": {
  "kernelspec": {
   "display_name": "Python 3.9.7",
   "language": "python",
   "name": "python3"
  },
  "language_info": {
   "codemirror_mode": {
    "name": "ipython",
    "version": 3
   },
   "file_extension": ".py",
   "mimetype": "text/x-python",
   "name": "python",
   "nbconvert_exporter": "python",
   "pygments_lexer": "ipython3",
   "version": "3.9.7"
  },
  "vscode": {
   "interpreter": {
    "hash": "759c246e457d671f6a4f6364e08b4009b53674e459926121d526ca1c5b410425"
   }
  }
 },
 "nbformat": 4,
 "nbformat_minor": 5
}
