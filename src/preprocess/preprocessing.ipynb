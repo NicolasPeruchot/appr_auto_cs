{
 "cells": [
  {
   "cell_type": "code",
   "execution_count": 91,
   "id": "2489164a",
   "metadata": {},
   "outputs": [],
   "source": [
    "import pandas as pd\n",
    "import numpy as np\n",
    "import matplotlib.pyplot as plt\n",
    "import seaborn as sns"
   ]
  },
  {
   "cell_type": "code",
   "execution_count": 92,
   "id": "6c81679e",
   "metadata": {},
   "outputs": [],
   "source": [
    "data_test=pd.read_csv('/Users/thomasvicaire/Desktop/cours cs/IA/project/data/test_airbnb_berlin.xls')\n",
    "data_train=pd.read_csv('/Users/thomasvicaire/Desktop/cours cs/IA/project//data/train_airbnb_berlin.xls')"
   ]
  },
  {
   "cell_type": "code",
   "execution_count": 93,
   "id": "2bafa542",
   "metadata": {},
   "outputs": [
    {
     "name": "stdout",
     "output_type": "stream",
     "text": [
      "number row : 7842\n",
      "number columns : 38\n"
     ]
    }
   ],
   "source": [
    "\"\"\"\n",
    "data viz\n",
    "\"\"\"\n",
    "\n",
    "data_test.head(15)\n",
    "\n",
    "# computing number of rows\n",
    "rows = len(data_test.axes[0])\n",
    "print('number row :',rows)\n",
    "# computing number of columns\n",
    "cols = len(data_test.axes[1])\n",
    "print('number columns :',cols)"
   ]
  },
  {
   "cell_type": "code",
   "execution_count": 94,
   "id": "53536aa5",
   "metadata": {},
   "outputs": [
    {
     "data": {
      "text/plain": [
       "array(['Listing ID', 'Listing Name', 'Host ID', 'Host Name', 'Host Since',\n",
       "       'Host Response Time', 'Host Response Rate', 'Is Superhost',\n",
       "       'neighbourhood', 'Neighborhood Group', 'City', 'Postal Code',\n",
       "       'Country Code', 'Country', 'Latitude', 'Longitude',\n",
       "       'Is Exact Location', 'Property Type', 'Room Type', 'Accomodates',\n",
       "       'Bathrooms', 'Bedrooms', 'Beds', 'Square Feet', 'Guests Included',\n",
       "       'Min Nights', 'Reviews', 'First Review', 'Last Review',\n",
       "       'Overall Rating', 'Accuracy Rating', 'Cleanliness Rating',\n",
       "       'Checkin Rating', 'Communication Rating', 'Location Rating',\n",
       "       'Value Rating', 'Instant Bookable', 'Business Travel Ready',\n",
       "       'Price'], dtype=object)"
      ]
     },
     "execution_count": 94,
     "metadata": {},
     "output_type": "execute_result"
    }
   ],
   "source": [
    "data_train.columns.values"
   ]
  },
  {
   "cell_type": "code",
   "execution_count": 95,
   "id": "ac5bb874",
   "metadata": {},
   "outputs": [
    {
     "data": {
      "text/html": [
       "<div>\n",
       "<style scoped>\n",
       "    .dataframe tbody tr th:only-of-type {\n",
       "        vertical-align: middle;\n",
       "    }\n",
       "\n",
       "    .dataframe tbody tr th {\n",
       "        vertical-align: top;\n",
       "    }\n",
       "\n",
       "    .dataframe thead th {\n",
       "        text-align: right;\n",
       "    }\n",
       "</style>\n",
       "<table border=\"1\" class=\"dataframe\">\n",
       "  <thead>\n",
       "    <tr style=\"text-align: right;\">\n",
       "      <th></th>\n",
       "      <th>Listing ID</th>\n",
       "      <th>Listing Name</th>\n",
       "      <th>Host ID</th>\n",
       "      <th>Host Name</th>\n",
       "      <th>Host Since</th>\n",
       "      <th>Host Response Time</th>\n",
       "      <th>Host Response Rate</th>\n",
       "      <th>Is Superhost</th>\n",
       "      <th>neighbourhood</th>\n",
       "      <th>Neighborhood Group</th>\n",
       "      <th>...</th>\n",
       "      <th>Overall Rating</th>\n",
       "      <th>Accuracy Rating</th>\n",
       "      <th>Cleanliness Rating</th>\n",
       "      <th>Checkin Rating</th>\n",
       "      <th>Communication Rating</th>\n",
       "      <th>Location Rating</th>\n",
       "      <th>Value Rating</th>\n",
       "      <th>Instant Bookable</th>\n",
       "      <th>Business Travel Ready</th>\n",
       "      <th>Price</th>\n",
       "    </tr>\n",
       "  </thead>\n",
       "  <tbody>\n",
       "    <tr>\n",
       "      <th>0</th>\n",
       "      <td>19665213.0</td>\n",
       "      <td>*</td>\n",
       "      <td>156079597.0</td>\n",
       "      <td>Maximilian</td>\n",
       "      <td>2016-01-20</td>\n",
       "      <td>NaN</td>\n",
       "      <td>NaN</td>\n",
       "      <td>f</td>\n",
       "      <td>Prenzlauer Berg</td>\n",
       "      <td>Pankow</td>\n",
       "      <td>...</td>\n",
       "      <td>100.0</td>\n",
       "      <td>10.0</td>\n",
       "      <td>10.0</td>\n",
       "      <td>10.0</td>\n",
       "      <td>10.0</td>\n",
       "      <td>9.0</td>\n",
       "      <td>10.0</td>\n",
       "      <td>t</td>\n",
       "      <td>f</td>\n",
       "      <td>26.0</td>\n",
       "    </tr>\n",
       "  </tbody>\n",
       "</table>\n",
       "<p>1 rows × 39 columns</p>\n",
       "</div>"
      ],
      "text/plain": [
       "   Listing ID Listing Name      Host ID   Host Name  Host Since  \\\n",
       "0  19665213.0            *  156079597.0  Maximilian  2016-01-20   \n",
       "\n",
       "  Host Response Time Host Response Rate Is Superhost    neighbourhood  \\\n",
       "0                NaN                NaN            f  Prenzlauer Berg   \n",
       "\n",
       "  Neighborhood Group  ... Overall Rating Accuracy Rating Cleanliness Rating  \\\n",
       "0             Pankow  ...          100.0            10.0               10.0   \n",
       "\n",
       "  Checkin Rating  Communication Rating  Location Rating Value Rating  \\\n",
       "0           10.0                  10.0              9.0         10.0   \n",
       "\n",
       "  Instant Bookable Business Travel Ready Price  \n",
       "0                t                     f  26.0  \n",
       "\n",
       "[1 rows x 39 columns]"
      ]
     },
     "execution_count": 95,
     "metadata": {},
     "output_type": "execute_result"
    }
   ],
   "source": [
    "data_train.head(1)"
   ]
  },
  {
   "cell_type": "code",
   "execution_count": 101,
   "id": "983cb1f1",
   "metadata": {},
   "outputs": [],
   "source": [
    "data_train=data_train.drop(['Listing Name', 'Host ID', 'Host Name', 'Host Since','Is Exact Location',\n",
    "        'Country', 'First Review', 'Last Review','City', 'Postal Code','Country Code'], axis=1)"
   ]
  },
  {
   "cell_type": "code",
   "execution_count": 104,
   "id": "6bb89ed6",
   "metadata": {},
   "outputs": [
    {
     "name": "stdout",
     "output_type": "stream",
     "text": [
      "Listing ID => 1 [0.01%]\n",
      "Is Superhost => 23 [0.15%]\n",
      "neighbourhood => no missing value \n",
      "Neighborhood Group => no missing value \n",
      "Latitude => no missing value \n",
      "Longitude => no missing value \n",
      "Property Type => no missing value \n",
      "Room Type => no missing value \n",
      "Accomodates => no missing value \n",
      "Bathrooms => 14 [0.09%]\n",
      "Bedrooms => 5 [0.03%]\n",
      "Beds => 8 [0.05%]\n",
      "Guests Included => no missing value \n",
      "Min Nights => no missing value \n",
      "Reviews => no missing value \n",
      "Overall Rating => 2955 [18.84%]\n",
      "Accuracy Rating => 2964 [18.9%]\n",
      "Cleanliness Rating => 2963 [18.89%]\n",
      "Checkin Rating => 2966 [18.91%]\n",
      "Communication Rating => 2963 [18.89%]\n",
      "Location Rating => 2964 [18.9%]\n",
      "Value Rating => 2965 [18.91%]\n",
      "Instant Bookable => no missing value \n",
      "Business Travel Ready => no missing value \n",
      "Price => no missing value \n"
     ]
    }
   ],
   "source": [
    "def missing(df):\n",
    "    total = 0\n",
    "    for col in df.columns:\n",
    "        miss = df[col].isnull().sum()\n",
    "        pct = df[col].isna().mean() * 100\n",
    "        total += miss\n",
    "        if miss != 0:\n",
    "            print('{} => {} [{}%]'.format(col, df[col].isnull().sum(), round(pct, 2)))\n",
    "        else:\n",
    "            print('{} => {} '.format(col, 'no missing value'))\n",
    "    \n",
    "    if total == 0:\n",
    "        print(\"no missing values\")\n",
    "        \n",
    "missing(data_train)"
   ]
  },
  {
   "cell_type": "code",
   "execution_count": 103,
   "id": "68455134",
   "metadata": {},
   "outputs": [],
   "source": [
    "data_train=data_train.drop(['Square Feet','Host Response Time','Host Response Rate'], axis=1)"
   ]
  },
  {
   "cell_type": "code",
   "execution_count": 118,
   "id": "ed6e0ed2",
   "metadata": {},
   "outputs": [],
   "source": [
    "for j in ['Price','Bathrooms','Bedrooms','Beds']:\n",
    "    for i in data_train[data_train[j].isna()== True].index:\n",
    "        data_train=data_train.drop(i, axis=0) #drop data where price is NaN"
   ]
  },
  {
   "cell_type": "code",
   "execution_count": 119,
   "id": "df04b6f7",
   "metadata": {},
   "outputs": [
    {
     "data": {
      "text/html": [
       "<div>\n",
       "<style scoped>\n",
       "    .dataframe tbody tr th:only-of-type {\n",
       "        vertical-align: middle;\n",
       "    }\n",
       "\n",
       "    .dataframe tbody tr th {\n",
       "        vertical-align: top;\n",
       "    }\n",
       "\n",
       "    .dataframe thead th {\n",
       "        text-align: right;\n",
       "    }\n",
       "</style>\n",
       "<table border=\"1\" class=\"dataframe\">\n",
       "  <thead>\n",
       "    <tr style=\"text-align: right;\">\n",
       "      <th></th>\n",
       "      <th>Bathrooms</th>\n",
       "      <th>Bedrooms</th>\n",
       "      <th>Beds</th>\n",
       "      <th>Is Superhost</th>\n",
       "    </tr>\n",
       "  </thead>\n",
       "  <tbody>\n",
       "  </tbody>\n",
       "</table>\n",
       "</div>"
      ],
      "text/plain": [
       "Empty DataFrame\n",
       "Columns: [Bathrooms, Bedrooms, Beds, Is Superhost]\n",
       "Index: []"
      ]
     },
     "execution_count": 119,
     "metadata": {},
     "output_type": "execute_result"
    }
   ],
   "source": []
  },
  {
   "cell_type": "code",
   "execution_count": null,
   "id": "17bca796",
   "metadata": {},
   "outputs": [],
   "source": []
  }
 ],
 "metadata": {
  "kernelspec": {
   "display_name": "Python 3 (ipykernel)",
   "language": "python",
   "name": "python3"
  },
  "language_info": {
   "codemirror_mode": {
    "name": "ipython",
    "version": 3
   },
   "file_extension": ".py",
   "mimetype": "text/x-python",
   "name": "python",
   "nbconvert_exporter": "python",
   "pygments_lexer": "ipython3",
   "version": "3.9.7"
  }
 },
 "nbformat": 4,
 "nbformat_minor": 5
}
