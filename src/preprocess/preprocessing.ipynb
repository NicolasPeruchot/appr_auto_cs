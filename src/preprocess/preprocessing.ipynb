{
 "cells": [
  {
   "cell_type": "code",
   "execution_count": 1,
   "id": "7a528986",
   "metadata": {},
   "outputs": [],
   "source": [
    "from preprocess import drop_useless,incomplete_columns, min_miss_value_corr\n",
    "\n",
    "import pandas as pd\n",
    "import numpy as np\n",
    "import matplotlib.pyplot as plt\n",
    "\n",
    "data_test=pd.read_csv('../../data/test_airbnb_berlin.xls')\n",
    "data_train=pd.read_csv('../../data/train_airbnb_berlin.xls')"
   ]
  },
  {
   "cell_type": "markdown",
   "id": "12ad88d2",
   "metadata": {},
   "source": [
    "On visualise le nombre de lignes, colonnes ainsi que les différentes features dans le jeu de données."
   ]
  },
  {
   "cell_type": "code",
   "execution_count": 2,
   "id": "2bafa542",
   "metadata": {},
   "outputs": [
    {
     "name": "stdout",
     "output_type": "stream",
     "text": [
      "Nombre de lignes: 15692\n",
      "\n",
      "Nombre de colonnes: 39\n",
      "\n",
      "Colonnes:['Listing ID' 'Listing Name' 'Host ID' 'Host Name' 'Host Since'\n",
      " 'Host Response Time' 'Host Response Rate' 'Is Superhost' 'neighbourhood'\n",
      " 'Neighborhood Group' 'City' 'Postal Code' 'Country Code' 'Country'\n",
      " 'Latitude' 'Longitude' 'Is Exact Location' 'Property Type' 'Room Type'\n",
      " 'Accomodates' 'Bathrooms' 'Bedrooms' 'Beds' 'Square Feet'\n",
      " 'Guests Included' 'Min Nights' 'Reviews' 'First Review' 'Last Review'\n",
      " 'Overall Rating' 'Accuracy Rating' 'Cleanliness Rating' 'Checkin Rating'\n",
      " 'Communication Rating' 'Location Rating' 'Value Rating'\n",
      " 'Instant Bookable' 'Business Travel Ready' 'Price']\n"
     ]
    }
   ],
   "source": [
    "\n",
    "rows = len(data_train.axes[0])\n",
    "print(f'Nombre de lignes: {rows}\\n')\n",
    "\n",
    "cols = len(data_train.axes[1])\n",
    "print(f'Nombre de colonnes: {cols}\\n')\n",
    "\n",
    "print(f\"Colonnes:{data_train.columns.values}\")"
   ]
  },
  {
   "cell_type": "code",
   "execution_count": 3,
   "id": "ac5bb874",
   "metadata": {},
   "outputs": [
    {
     "data": {
      "text/html": [
       "<div>\n",
       "<style scoped>\n",
       "    .dataframe tbody tr th:only-of-type {\n",
       "        vertical-align: middle;\n",
       "    }\n",
       "\n",
       "    .dataframe tbody tr th {\n",
       "        vertical-align: top;\n",
       "    }\n",
       "\n",
       "    .dataframe thead th {\n",
       "        text-align: right;\n",
       "    }\n",
       "</style>\n",
       "<table border=\"1\" class=\"dataframe\">\n",
       "  <thead>\n",
       "    <tr style=\"text-align: right;\">\n",
       "      <th></th>\n",
       "      <th>Listing ID</th>\n",
       "      <th>Listing Name</th>\n",
       "      <th>Host ID</th>\n",
       "      <th>Host Name</th>\n",
       "      <th>Host Since</th>\n",
       "      <th>Host Response Time</th>\n",
       "      <th>Host Response Rate</th>\n",
       "      <th>Is Superhost</th>\n",
       "      <th>neighbourhood</th>\n",
       "      <th>Neighborhood Group</th>\n",
       "      <th>...</th>\n",
       "      <th>Overall Rating</th>\n",
       "      <th>Accuracy Rating</th>\n",
       "      <th>Cleanliness Rating</th>\n",
       "      <th>Checkin Rating</th>\n",
       "      <th>Communication Rating</th>\n",
       "      <th>Location Rating</th>\n",
       "      <th>Value Rating</th>\n",
       "      <th>Instant Bookable</th>\n",
       "      <th>Business Travel Ready</th>\n",
       "      <th>Price</th>\n",
       "    </tr>\n",
       "  </thead>\n",
       "  <tbody>\n",
       "    <tr>\n",
       "      <th>0</th>\n",
       "      <td>19665213.0</td>\n",
       "      <td>*</td>\n",
       "      <td>156079597.0</td>\n",
       "      <td>Maximilian</td>\n",
       "      <td>2016-01-20</td>\n",
       "      <td>NaN</td>\n",
       "      <td>NaN</td>\n",
       "      <td>f</td>\n",
       "      <td>Prenzlauer Berg</td>\n",
       "      <td>Pankow</td>\n",
       "      <td>...</td>\n",
       "      <td>100.0</td>\n",
       "      <td>10.0</td>\n",
       "      <td>10.0</td>\n",
       "      <td>10.0</td>\n",
       "      <td>10.0</td>\n",
       "      <td>9.0</td>\n",
       "      <td>10.0</td>\n",
       "      <td>t</td>\n",
       "      <td>f</td>\n",
       "      <td>26.0</td>\n",
       "    </tr>\n",
       "  </tbody>\n",
       "</table>\n",
       "<p>1 rows × 39 columns</p>\n",
       "</div>"
      ],
      "text/plain": [
       "   Listing ID Listing Name      Host ID   Host Name  Host Since  \\\n",
       "0  19665213.0            *  156079597.0  Maximilian  2016-01-20   \n",
       "\n",
       "  Host Response Time Host Response Rate Is Superhost    neighbourhood  \\\n",
       "0                NaN                NaN            f  Prenzlauer Berg   \n",
       "\n",
       "  Neighborhood Group  ... Overall Rating Accuracy Rating Cleanliness Rating  \\\n",
       "0             Pankow  ...          100.0            10.0               10.0   \n",
       "\n",
       "  Checkin Rating  Communication Rating  Location Rating Value Rating  \\\n",
       "0           10.0                  10.0              9.0         10.0   \n",
       "\n",
       "  Instant Bookable Business Travel Ready Price  \n",
       "0                t                     f  26.0  \n",
       "\n",
       "[1 rows x 39 columns]"
      ]
     },
     "execution_count": 3,
     "metadata": {},
     "output_type": "execute_result"
    }
   ],
   "source": [
    "data_train.head(1)"
   ]
  },
  {
   "cell_type": "markdown",
   "id": "67bdc3d6",
   "metadata": {},
   "source": [
    "On enlève les features qui ne vont pas apporter d'informations."
   ]
  },
  {
   "cell_type": "code",
   "execution_count": 4,
   "id": "983cb1f1",
   "metadata": {},
   "outputs": [],
   "source": [
    "data_train=drop_useless(data_train)"
   ]
  },
  {
   "cell_type": "markdown",
   "id": "5c3dd137",
   "metadata": {},
   "source": [
    "__Analyse du taux de missing par feature__\n",
    "\n",
    "On liste les features pour lesquelles il manque des données."
   ]
  },
  {
   "cell_type": "markdown",
   "id": "fb9ceec9",
   "metadata": {},
   "source": [
    "On remarque la présence de quelques astérix dans le dataset: nous choisissons de les remplacer par des NAN."
   ]
  },
  {
   "cell_type": "code",
   "execution_count": 5,
   "id": "d1dd26ca",
   "metadata": {},
   "outputs": [],
   "source": [
    "data_train = data_train.replace(\"*\", pd.NA)"
   ]
  },
  {
   "cell_type": "code",
   "execution_count": 6,
   "id": "6bb89ed6",
   "metadata": {},
   "outputs": [
    {
     "name": "stdout",
     "output_type": "stream",
     "text": [
      "Square Feet => 15389 [98.07%]\n",
      "Host Response Rate => 7249 [46.2%]\n",
      "Host Response Time => 7075 [45.09%]\n",
      "Checkin Rating => 2973 [18.95%]\n",
      "Value Rating => 2972 [18.94%]\n",
      "Accuracy Rating => 2971 [18.93%]\n",
      "Cleanliness Rating => 2970 [18.93%]\n",
      "Communication Rating => 2970 [18.93%]\n",
      "Location Rating => 2971 [18.93%]\n",
      "Overall Rating => 2962 [18.88%]\n",
      "Min Nights => 249 [1.59%]\n",
      "Property Type => 75 [0.48%]\n",
      "Bathrooms => 25 [0.16%]\n",
      "Is Superhost => 23 [0.15%]\n",
      "Beds => 20 [0.13%]\n",
      "Accomodates => 19 [0.12%]\n",
      "Bedrooms => 16 [0.1%]\n",
      "Guests Included => 10 [0.06%]\n",
      "Price => 9 [0.06%]\n"
     ]
    }
   ],
   "source": [
    "listfeatures=incomplete_columns(data_train)\n",
    "\n",
    "## il reste: interrupteur pour gérer les colonnes \"min nights\" et \"property type\""
   ]
  },
  {
   "cell_type": "markdown",
   "id": "6e6d6ae0",
   "metadata": {},
   "source": [
    "__Gestion des features à taux de \"missing\" extrême__"
   ]
  },
  {
   "cell_type": "markdown",
   "id": "cb23f127",
   "metadata": {},
   "source": [
    "Lorsque l'on regarde les features où il manque moins de 30 données, on se rend compte que l'absence de ces données est MCAR. On se permet donc de supprimer les lignes où ces données sont manquantes. \n",
    "Il y a une exception sur la feature 'Is Superhost': si pour ces host il y a une note générale au dessus de 80, on les catégorises en Superhost, sinon, non. "
   ]
  },
  {
   "cell_type": "markdown",
   "id": "1e8e92e4",
   "metadata": {},
   "source": [
    "On commence par supprimer les features qui sont trop souvent manquantes (plus de 45%)."
   ]
  },
  {
   "cell_type": "code",
   "execution_count": 7,
   "id": "68455134",
   "metadata": {},
   "outputs": [],
   "source": [
    "data_train=data_train.drop(columns=[x for x in listfeatures.keys() if listfeatures[x]['pct']>45])"
   ]
  },
  {
   "cell_type": "markdown",
   "id": "68e35484",
   "metadata": {},
   "source": [
    "Pour les features presque toujours présentes (moins de 1% d'absence), on supprime les lignes concernées (pas que, voir les interrupteurs)"
   ]
  },
  {
   "cell_type": "code",
   "execution_count": 8,
   "id": "ed6e0ed2",
   "metadata": {},
   "outputs": [],
   "source": [
    "for col in [x for x in listfeatures.keys() if listfeatures[x]['pct']<2]:\n",
    "    data_train=data_train[data_train[col].notna()]"
   ]
  },
  {
   "cell_type": "markdown",
   "id": "16abe550",
   "metadata": {},
   "source": [
    "Si le host est noté, et ce au dessus de 80, il est supposé superhost, sinon il ne l'est pas"
   ]
  },
  {
   "cell_type": "code",
   "execution_count": 9,
   "id": "6c217f0a",
   "metadata": {},
   "outputs": [],
   "source": [
    "data_train['Is Superhost'][data_train['Is Superhost'].isna()] = np.where(data_train['Overall Rating'] > 80, 't', 'f')"
   ]
  },
  {
   "cell_type": "markdown",
   "id": "c739cd7a",
   "metadata": {},
   "source": [
    "__Recherche de corrélations entre les features présentant un taux de missing value \"NaN\" autour de 18%__\n",
    "\n",
    "On va s'aider de la liste **listfeatures** définie plus tôt\n"
   ]
  },
  {
   "cell_type": "code",
   "execution_count": 10,
   "id": "3c91b396",
   "metadata": {},
   "outputs": [
    {
     "name": "stdout",
     "output_type": "stream",
     "text": [
      "Pourcentage minimal de corrélation entre deux features de la liste : 99.61% \n",
      "\n"
     ]
    }
   ],
   "source": [
    "listfeatures_between_15_20 = [x for x in listfeatures.keys() if listfeatures[x]['pct']<20 and listfeatures[x]['pct']>15]\n",
    "\n",
    "min_corr_pct=min_miss_value_corr(data_train,listfeatures_between_15_20)\n",
    "\n",
    "print(f\"Pourcentage minimal de corrélation entre deux features de la liste : {min_corr_pct}% \\n\")\n"
   ]
  },
  {
   "cell_type": "markdown",
   "id": "5896d4a1",
   "metadata": {},
   "source": [
    "On peut donc raisonnablement affirmer que ces features sont de type MNAR : une listwise deletion n'est donc pas conseillée (et avec 18% d'instances concernées, ce n'est pas idéal)"
   ]
  },
  {
   "cell_type": "markdown",
   "id": "14d7c8c5",
   "metadata": {},
   "source": [
    "__Enregistrement__"
   ]
  },
  {
   "cell_type": "code",
   "execution_count": 11,
   "id": "224c839c",
   "metadata": {},
   "outputs": [],
   "source": [
    "#fichier csv où l'on sans les ratings \n",
    "data_train_clean=data_train.drop(['Overall Rating', 'Accuracy Rating', 'Cleanliness Rating',\n",
    "       'Checkin Rating', 'Communication Rating', 'Location Rating','Value Rating'], axis=1)\n",
    "\n",
    "data_train_clean.to_csv('../../data/data_train_clean.csv',index=False)\n",
    "\n",
    "\n",
    "\n",
    "#fichier csv où l'on garde les ratings\n",
    "\n",
    "data_train_clean_ratings_included = data_train\n",
    "\n",
    "for j in ['Overall Rating', 'Accuracy Rating', 'Cleanliness Rating','Checkin Rating', 'Communication Rating', 'Location Rating','Value Rating']:\n",
    "       for i in data_train_clean_ratings_included[data_train_clean_ratings_included[j].isna()== True].index:\n",
    "              data_train_clean_ratings_included=data_train_clean_ratings_included.drop(i, axis=0)\n",
    "\n",
    "data_train_clean_ratings_included.to_csv('../../data/data_train_clean_ratings_included.csv',index=False)\n"
   ]
  }
 ],
 "metadata": {
  "kernelspec": {
   "display_name": "Python 3.10.6 ('venv': venv)",
   "language": "python",
   "name": "python3"
  },
  "language_info": {
   "codemirror_mode": {
    "name": "ipython",
    "version": 3
   },
   "file_extension": ".py",
   "mimetype": "text/x-python",
   "name": "python",
   "nbconvert_exporter": "python",
   "pygments_lexer": "ipython3",
   "version": "3.10.6"
  },
  "vscode": {
   "interpreter": {
    "hash": "480d840c0aa0f0203e8d364e43264ca3f3b831f672cf37a9dc1d0850271fbd46"
   }
  }
 },
 "nbformat": 4,
 "nbformat_minor": 5
}
