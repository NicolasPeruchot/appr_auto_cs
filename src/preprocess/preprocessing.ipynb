{
 "cells": [
  {
   "cell_type": "code",
   "execution_count": 1,
   "id": "2489164a",
   "metadata": {},
   "outputs": [],
   "source": [
    "import pandas as pd\n",
    "import numpy as np\n",
    "import matplotlib.pyplot as plt\n",
    "import seaborn as sns"
   ]
  },
  {
   "cell_type": "code",
   "execution_count": 10,
   "id": "6c81679e",
   "metadata": {},
   "outputs": [],
   "source": [
    "data_test=pd.read_csv('/Users/thomasvicaire/Desktop/cours cs/IA/project/data/test_airbnb_berlin.xls')\n",
    "data_train=pd.read_csv('/Users/thomasvicaire/Desktop/cours cs/IA/project//data/train_airbnb_berlin.xls')"
   ]
  },
  {
   "cell_type": "code",
   "execution_count": 14,
   "id": "2bafa542",
   "metadata": {},
   "outputs": [
    {
     "name": "stdout",
     "output_type": "stream",
     "text": [
      "number row : 7842\n",
      "number columns : 38\n"
     ]
    }
   ],
   "source": [
    "\"\"\"\n",
    "data viz\n",
    "\"\"\"\n",
    "\n",
    "data_test.head(15)\n",
    "\n",
    "# computing number of rows\n",
    "rows = len(data_test.axes[0])\n",
    "print('number row :',rows)\n",
    "# computing number of columns\n",
    "cols = len(data_test.axes[1])\n",
    "print('number columns :',cols)"
   ]
  },
  {
   "cell_type": "code",
   "execution_count": 39,
   "id": "53536aa5",
   "metadata": {},
   "outputs": [
    {
     "name": "stdout",
     "output_type": "stream",
     "text": [
      "27\n"
     ]
    }
   ],
   "source": [
    "print(len(data_test.columns.values))"
   ]
  },
  {
   "cell_type": "code",
   "execution_count": 19,
   "id": "ac5bb874",
   "metadata": {},
   "outputs": [
    {
     "data": {
      "text/html": [
       "<div>\n",
       "<style scoped>\n",
       "    .dataframe tbody tr th:only-of-type {\n",
       "        vertical-align: middle;\n",
       "    }\n",
       "\n",
       "    .dataframe tbody tr th {\n",
       "        vertical-align: top;\n",
       "    }\n",
       "\n",
       "    .dataframe thead th {\n",
       "        text-align: right;\n",
       "    }\n",
       "</style>\n",
       "<table border=\"1\" class=\"dataframe\">\n",
       "  <thead>\n",
       "    <tr style=\"text-align: right;\">\n",
       "      <th></th>\n",
       "      <th>Listing ID</th>\n",
       "      <th>Listing Name</th>\n",
       "      <th>Host ID</th>\n",
       "      <th>Host Name</th>\n",
       "      <th>Host Since</th>\n",
       "      <th>Host Response Time</th>\n",
       "      <th>Host Response Rate</th>\n",
       "      <th>Is Superhost</th>\n",
       "      <th>neighbourhood</th>\n",
       "      <th>Neighborhood Group</th>\n",
       "      <th>...</th>\n",
       "      <th>Last Review</th>\n",
       "      <th>Overall Rating</th>\n",
       "      <th>Accuracy Rating</th>\n",
       "      <th>Cleanliness Rating</th>\n",
       "      <th>Checkin Rating</th>\n",
       "      <th>Communication Rating</th>\n",
       "      <th>Location Rating</th>\n",
       "      <th>Value Rating</th>\n",
       "      <th>Instant Bookable</th>\n",
       "      <th>Business Travel Ready</th>\n",
       "    </tr>\n",
       "  </thead>\n",
       "  <tbody>\n",
       "    <tr>\n",
       "      <th>0</th>\n",
       "      <td>13338017.0</td>\n",
       "      <td>*</td>\n",
       "      <td>19153032.0</td>\n",
       "      <td>Sonfron</td>\n",
       "      <td>15-06-2014</td>\n",
       "      <td>within a few hours</td>\n",
       "      <td>91%</td>\n",
       "      <td>t</td>\n",
       "      <td>Kreuzberg</td>\n",
       "      <td>Friedrichshain-Kreuzberg</td>\n",
       "      <td>...</td>\n",
       "      <td>05-05-2019</td>\n",
       "      <td>97.0</td>\n",
       "      <td>10.0</td>\n",
       "      <td>10.0</td>\n",
       "      <td>10.0</td>\n",
       "      <td>10.0</td>\n",
       "      <td>10.0</td>\n",
       "      <td>10.0</td>\n",
       "      <td>f</td>\n",
       "      <td>f</td>\n",
       "    </tr>\n",
       "  </tbody>\n",
       "</table>\n",
       "<p>1 rows × 38 columns</p>\n",
       "</div>"
      ],
      "text/plain": [
       "   Listing ID Listing Name     Host ID Host Name  Host Since  \\\n",
       "0  13338017.0            *  19153032.0   Sonfron  15-06-2014   \n",
       "\n",
       "   Host Response Time Host Response Rate Is Superhost neighbourhood  \\\n",
       "0  within a few hours                91%            t     Kreuzberg   \n",
       "\n",
       "         Neighborhood Group  ... Last Review Overall Rating Accuracy Rating  \\\n",
       "0  Friedrichshain-Kreuzberg  ...  05-05-2019           97.0            10.0   \n",
       "\n",
       "  Cleanliness Rating  Checkin Rating  Communication Rating Location Rating  \\\n",
       "0               10.0            10.0                  10.0            10.0   \n",
       "\n",
       "  Value Rating Instant Bookable Business Travel Ready  \n",
       "0         10.0                f                     f  \n",
       "\n",
       "[1 rows x 38 columns]"
      ]
     },
     "execution_count": 19,
     "metadata": {},
     "output_type": "execute_result"
    }
   ],
   "source": [
    "data_test.head(1)"
   ]
  },
  {
   "cell_type": "code",
   "execution_count": 24,
   "id": "983cb1f1",
   "metadata": {},
   "outputs": [],
   "source": [
    "data_test=data_test.drop(['Listing Name', 'Host ID', 'Host Name', 'Host Since',\n",
    "        'Country', 'First Review', 'Last Review','City', 'Postal Code','Country Code'], axis=1)"
   ]
  },
  {
   "cell_type": "code",
   "execution_count": 25,
   "id": "6bb89ed6",
   "metadata": {},
   "outputs": [
    {
     "name": "stdout",
     "output_type": "stream",
     "text": [
      "Listing ID => 1 [0.01%]\n",
      "Host Response Time => 3534 [45.07%]\n",
      "Host Response Rate => 3534 [45.07%]\n",
      "Is Superhost => 11 [0.14%]\n",
      "Bathrooms => 12 [0.15%]\n",
      "Bedrooms => 4 [0.05%]\n",
      "Beds => 3 [0.04%]\n",
      "Square Feet => 7694 [98.11%]\n",
      "Overall Rating => 1515 [19.32%]\n",
      "Accuracy Rating => 1519 [19.37%]\n",
      "Cleanliness Rating => 1518 [19.36%]\n",
      "Checkin Rating => 1522 [19.41%]\n",
      "Communication Rating => 1520 [19.38%]\n",
      "Location Rating => 1522 [19.41%]\n",
      "Value Rating => 1521 [19.4%]\n"
     ]
    }
   ],
   "source": [
    "def missing(df):\n",
    "    total = 0\n",
    "    for col in df.columns:\n",
    "        miss = df[col].isnull().sum()\n",
    "        pct = df[col].isna().mean() * 100\n",
    "        total += miss\n",
    "        if miss != 0:\n",
    "          print('{} => {} [{}%]'.format(col, df[col].isnull().sum(), round(pct, 2)))\n",
    "    \n",
    "    if total == 0:\n",
    "        print(\"no missing values\")\n",
    "        \n",
    "missing(data_test)"
   ]
  },
  {
   "cell_type": "code",
   "execution_count": 27,
   "id": "68455134",
   "metadata": {},
   "outputs": [],
   "source": [
    "data_test=data_test.drop(['Square Feet'], axis=1)"
   ]
  },
  {
   "cell_type": "code",
   "execution_count": 38,
   "id": "ed6e0ed2",
   "metadata": {},
   "outputs": [
    {
     "data": {
      "text/plain": [
       "0       False\n",
       "1       False\n",
       "2       False\n",
       "3       False\n",
       "4       False\n",
       "        ...  \n",
       "7837    False\n",
       "7838    False\n",
       "7839    False\n",
       "7840    False\n",
       "7841    False\n",
       "Name: Listing ID, Length: 7842, dtype: bool"
      ]
     },
     "execution_count": 38,
     "metadata": {},
     "output_type": "execute_result"
    }
   ],
   "source": [
    "data_test['Listing ID'].isnull()"
   ]
  },
  {
   "cell_type": "code",
   "execution_count": null,
   "id": "df04b6f7",
   "metadata": {},
   "outputs": [],
   "source": []
  },
  {
   "cell_type": "code",
   "execution_count": null,
   "id": "17bca796",
   "metadata": {},
   "outputs": [],
   "source": []
  }
 ],
 "metadata": {
  "kernelspec": {
   "display_name": "Python 3 (ipykernel)",
   "language": "python",
   "name": "python3"
  },
  "language_info": {
   "codemirror_mode": {
    "name": "ipython",
    "version": 3
   },
   "file_extension": ".py",
   "mimetype": "text/x-python",
   "name": "python",
   "nbconvert_exporter": "python",
   "pygments_lexer": "ipython3",
   "version": "3.9.7"
  }
 },
 "nbformat": 4,
 "nbformat_minor": 5
}
