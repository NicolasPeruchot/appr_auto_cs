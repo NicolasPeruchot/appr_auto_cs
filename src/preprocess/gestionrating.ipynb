{
 "cells": [
  {
   "cell_type": "code",
   "execution_count": 22,
   "id": "7a528986",
   "metadata": {},
   "outputs": [],
   "source": [
    "from preprocess import drop_useless\n",
    "from sklearn.experimental import enable_iterative_imputer  # noqa\n",
    "from sklearn.impute import IterativeImputer"
   ]
  },
  {
   "cell_type": "code",
   "execution_count": 23,
   "id": "2489164a",
   "metadata": {},
   "outputs": [],
   "source": [
    "import pandas as pd\n",
    "import numpy as np\n",
    "import matplotlib.pyplot as plt\n",
    "from sklearn.datasets import make_regression\n"
   ]
  },
  {
   "cell_type": "code",
   "execution_count": 24,
   "id": "6c81679e",
   "metadata": {},
   "outputs": [],
   "source": [
    "data_test=pd.read_csv('../../data/test_airbnb_berlin.xls')\n",
    "data_train=pd.read_csv('../../data/train_airbnb_berlin.xls')"
   ]
  },
  {
   "cell_type": "code",
   "execution_count": 25,
   "id": "2bafa542",
   "metadata": {},
   "outputs": [
    {
     "name": "stdout",
     "output_type": "stream",
     "text": [
      "number row : 15692\n",
      "number columns : 39\n"
     ]
    }
   ],
   "source": [
    "#Data visualisation\n",
    "\n",
    "# computing number of rows\n",
    "rows = len(data_train.axes[0])\n",
    "print('number row :',rows)\n",
    "# computing number of columns\n",
    "cols = len(data_train.axes[1])\n",
    "print('number columns :',cols)"
   ]
  },
  {
   "cell_type": "code",
   "execution_count": 26,
   "id": "983cb1f1",
   "metadata": {},
   "outputs": [],
   "source": [
    "data_train=drop_useless(data_train)"
   ]
  },
  {
   "cell_type": "markdown",
   "id": "6e6d6ae0",
   "metadata": {},
   "source": [
    "__Gestion des features à taux de \"missing\" extrême__"
   ]
  },
  {
   "cell_type": "markdown",
   "id": "cb23f127",
   "metadata": {},
   "source": [
    "Lorsque l'on regarde les features où il manque moins de 30 données, on se rend compte que l'absence de ces données est MCAR. On se permet donc de supprimer les lignes où ces données sont manquantes. \n",
    "Il y a une exception sur la feature 'Is Superhost': si pour ces host il y a une note générale au dessus de 80, on les catégorises en Superhost, sinon, non. "
   ]
  },
  {
   "cell_type": "code",
   "execution_count": 27,
   "id": "68455134",
   "metadata": {},
   "outputs": [],
   "source": [
    "#Suppression des features à taux de missing trop élevé \n",
    "data_train=data_train.drop(['Square Feet','Host Response Time','Host Response Rate'], axis=1)"
   ]
  },
  {
   "cell_type": "code",
   "execution_count": 28,
   "id": "ed6e0ed2",
   "metadata": {},
   "outputs": [],
   "source": [
    "#Listwise deletion pour les features à taux de missing faible (borne max des rows concernés : 60 /15k = 0.4%)\n",
    "for j in ['Price','Bathrooms','Bedrooms','Beds']:\n",
    "    for i in data_train[data_train[j].isna()== True].index:\n",
    "        data_train=data_train.drop(i, axis=0)"
   ]
  },
  {
   "cell_type": "code",
   "execution_count": 29,
   "id": "6c217f0a",
   "metadata": {},
   "outputs": [],
   "source": [
    "#plus ou moins valide pour 20 personnes\n",
    "# Gestion des 'Is Superhost' : si le host est noté, et ce au dessus de 80, il est supposé superhost, sinon il ne l'est pas\n",
    "for i in data_train[data_train['Is Superhost'].isna()== True].index:\n",
    "    if data_train.loc[i,'Overall Rating']>=80:\n",
    "        data_train.loc[i,'Is Superhost']='t'\n",
    "    else:\n",
    "        data_train.loc[i,'Is Superhost']='f'"
   ]
  },
  {
   "cell_type": "markdown",
   "id": "396503ca",
   "metadata": {},
   "source": [
    "On cherche a réaliser une regression multivariate \n",
    "\n",
    "On va prédire les features \"Rating\" de deux façons : soit colonne par colonne, soit toutes les colonnes à la fois."
   ]
  },
  {
   "cell_type": "code",
   "execution_count": 30,
   "id": "296fd545",
   "metadata": {},
   "outputs": [
    {
     "data": {
      "text/plain": [
       "array(['Is Superhost', 'Neighborhood Group', 'Latitude', 'Longitude',\n",
       "       'Property Type', 'Room Type', 'Accomodates', 'Bathrooms',\n",
       "       'Bedrooms', 'Beds', 'Guests Included', 'Min Nights', 'Reviews',\n",
       "       'Overall Rating', 'Accuracy Rating', 'Cleanliness Rating',\n",
       "       'Checkin Rating', 'Communication Rating', 'Location Rating',\n",
       "       'Value Rating', 'Instant Bookable', 'Business Travel Ready',\n",
       "       'Price'], dtype=object)"
      ]
     },
     "execution_count": 30,
     "metadata": {},
     "output_type": "execute_result"
    }
   ],
   "source": [
    "data_train.columns.values"
   ]
  },
  {
   "cell_type": "code",
   "execution_count": 31,
   "id": "3c1137ca",
   "metadata": {},
   "outputs": [],
   "source": [
    "without_ratings=data_train.drop(['Overall Rating', 'Accuracy Rating', 'Cleanliness Rating',\n",
    "       'Checkin Rating', 'Communication Rating', 'Location Rating','Value Rating'], axis=1)\n",
    "\n",
    "data_train_clean_ratings_included=data_train\n",
    "\n",
    "for j in ['Overall Rating', 'Accuracy Rating', 'Cleanliness Rating','Checkin Rating', 'Communication Rating', 'Location Rating','Value Rating']:\n",
    "       for i in data_train_clean_ratings_included[data_train_clean_ratings_included[j].isna()== True].index:\n",
    "              data_train_clean_ratings_included=data_train_clean_ratings_included.drop(i, axis=0)\n"
   ]
  },
  {
   "cell_type": "code",
   "execution_count": 32,
   "id": "9e7e5e5b",
   "metadata": {},
   "outputs": [
    {
     "name": "stdout",
     "output_type": "stream",
     "text": [
      "X:       Is Superhost        Neighborhood Group  Latitude  Longitude  \\\n",
      "0                f                    Pankow  52.54652   13.41792   \n",
      "1                f                    Pankow  52.56512   13.42214   \n",
      "2                f                    Pankow  52.54741   13.42521   \n",
      "3                f  Friedrichshain-Kreuzberg  52.50958   13.45144   \n",
      "5                t   Tempelhof - SchÃ¶neberg  52.44826   13.40608   \n",
      "...            ...                       ...       ...        ...   \n",
      "15685            f                     Mitte  52.52759   13.33738   \n",
      "15686            f                     Mitte  52.52638   13.39698   \n",
      "15687            f  Friedrichshain-Kreuzberg  52.49016   13.39241   \n",
      "15688            f                 NeukÃ¶lln  52.47586   13.45362   \n",
      "15690            f   Tempelhof - SchÃ¶neberg  52.47179   13.33103   \n",
      "\n",
      "      Property Type        Room Type Accomodates Bathrooms Bedrooms Beds  \\\n",
      "0         Apartment     Private room           2       1.0      1.0  1.0   \n",
      "1         Apartment  Entire home/apt           2       1.0      2.0  2.0   \n",
      "2         Apartment  Entire home/apt           3       1.0      1.0  2.0   \n",
      "3         Apartment     Private room           2       1.0      1.0  1.0   \n",
      "5       Condominium     Private room           3       1.0      1.0  2.0   \n",
      "...             ...              ...         ...       ...      ...  ...   \n",
      "15685         Other     Private room           1       1.0      1.0  1.0   \n",
      "15686   Condominium     Private room           2       1.0      1.0  1.0   \n",
      "15687     Apartment     Private room           2       1.5      1.0  1.0   \n",
      "15688     Apartment  Entire home/apt           8       2.0      3.0  5.0   \n",
      "15690     Apartment  Entire home/apt           4       1.0      1.0  2.0   \n",
      "\n",
      "      Guests Included Min Nights  Reviews Instant Bookable  \\\n",
      "0                   1          2        6                t   \n",
      "1                   2          7        6                f   \n",
      "2                   1          1        2                f   \n",
      "3                   1          2        4                f   \n",
      "5                   2          1       10                t   \n",
      "...               ...        ...      ...              ...   \n",
      "15685               1          5        3                f   \n",
      "15686               1          1        1                f   \n",
      "15687               1          6       11                f   \n",
      "15688               1          1        4                f   \n",
      "15690               2          1        6                f   \n",
      "\n",
      "      Business Travel Ready  Price  \n",
      "0                         f   26.0  \n",
      "1                         f   41.0  \n",
      "2                         f   50.0  \n",
      "3                         f   50.0  \n",
      "5                         f   39.0  \n",
      "...                     ...    ...  \n",
      "15685                     f   45.0  \n",
      "15686                     f   49.0  \n",
      "15687                     f   45.0  \n",
      "15688                     f  130.0  \n",
      "15690                     f  100.0  \n",
      "\n",
      "[12696 rows x 16 columns]\n",
      "y 0        100.0\n",
      "1         90.0\n",
      "2        100.0\n",
      "3        100.0\n",
      "5         99.0\n",
      "         ...  \n",
      "15685     80.0\n",
      "15686    100.0\n",
      "15687     98.0\n",
      "15688    100.0\n",
      "15690     90.0\n",
      "Name: Overall Rating, Length: 12696, dtype: float64\n"
     ]
    }
   ],
   "source": [
    "X=data_train_clean_ratings_included.drop(['Overall Rating', 'Accuracy Rating', 'Cleanliness Rating','Checkin Rating', 'Communication Rating', 'Location Rating','Value Rating'],axis=1)\n",
    "y=data_train_clean_ratings_included['Overall Rating']\n",
    "\n",
    "print('X:',X)\n",
    "print('y',y)"
   ]
  },
  {
   "cell_type": "code",
   "execution_count": 21,
   "id": "699c7705",
   "metadata": {},
   "outputs": [
    {
     "ename": "ValueError",
     "evalue": "Data must be 1-dimensional",
     "output_type": "error",
     "traceback": [
      "\u001b[0;31m---------------------------------------------------------------------------\u001b[0m",
      "\u001b[0;31mValueError\u001b[0m                                Traceback (most recent call last)",
      "Cell \u001b[0;32mIn [21], line 2\u001b[0m\n\u001b[1;32m      1\u001b[0m it_imp \u001b[39m=\u001b[39m IterativeImputer(sample_posterior\u001b[39m=\u001b[39m\u001b[39mTrue\u001b[39;00m)\n\u001b[0;32m----> 2\u001b[0m X_it_imp \u001b[39m=\u001b[39m it_imp\u001b[39m.\u001b[39mfit_transform(np\u001b[39m.\u001b[39mappend(X, np\u001b[39m.\u001b[39;49mreshape(y, (\u001b[39m-\u001b[39;49m\u001b[39m1\u001b[39;49m, \u001b[39m1\u001b[39;49m)), axis\u001b[39m=\u001b[39m\u001b[39m1\u001b[39m))\n",
      "File \u001b[0;32m<__array_function__ internals>:180\u001b[0m, in \u001b[0;36mreshape\u001b[0;34m(*args, **kwargs)\u001b[0m\n",
      "File \u001b[0;32m~/.pyenv/versions/3.10.4/envs/venv/lib/python3.10/site-packages/numpy/core/fromnumeric.py:298\u001b[0m, in \u001b[0;36mreshape\u001b[0;34m(a, newshape, order)\u001b[0m\n\u001b[1;32m    198\u001b[0m \u001b[39m@array_function_dispatch\u001b[39m(_reshape_dispatcher)\n\u001b[1;32m    199\u001b[0m \u001b[39mdef\u001b[39;00m \u001b[39mreshape\u001b[39m(a, newshape, order\u001b[39m=\u001b[39m\u001b[39m'\u001b[39m\u001b[39mC\u001b[39m\u001b[39m'\u001b[39m):\n\u001b[1;32m    200\u001b[0m     \u001b[39m\"\"\"\u001b[39;00m\n\u001b[1;32m    201\u001b[0m \u001b[39m    Gives a new shape to an array without changing its data.\u001b[39;00m\n\u001b[1;32m    202\u001b[0m \n\u001b[0;32m   (...)\u001b[0m\n\u001b[1;32m    296\u001b[0m \u001b[39m           [5, 6]])\u001b[39;00m\n\u001b[1;32m    297\u001b[0m \u001b[39m    \"\"\"\u001b[39;00m\n\u001b[0;32m--> 298\u001b[0m     \u001b[39mreturn\u001b[39;00m _wrapfunc(a, \u001b[39m'\u001b[39;49m\u001b[39mreshape\u001b[39;49m\u001b[39m'\u001b[39;49m, newshape, order\u001b[39m=\u001b[39;49morder)\n",
      "File \u001b[0;32m~/.pyenv/versions/3.10.4/envs/venv/lib/python3.10/site-packages/numpy/core/fromnumeric.py:54\u001b[0m, in \u001b[0;36m_wrapfunc\u001b[0;34m(obj, method, *args, **kwds)\u001b[0m\n\u001b[1;32m     52\u001b[0m bound \u001b[39m=\u001b[39m \u001b[39mgetattr\u001b[39m(obj, method, \u001b[39mNone\u001b[39;00m)\n\u001b[1;32m     53\u001b[0m \u001b[39mif\u001b[39;00m bound \u001b[39mis\u001b[39;00m \u001b[39mNone\u001b[39;00m:\n\u001b[0;32m---> 54\u001b[0m     \u001b[39mreturn\u001b[39;00m _wrapit(obj, method, \u001b[39m*\u001b[39;49margs, \u001b[39m*\u001b[39;49m\u001b[39m*\u001b[39;49mkwds)\n\u001b[1;32m     56\u001b[0m \u001b[39mtry\u001b[39;00m:\n\u001b[1;32m     57\u001b[0m     \u001b[39mreturn\u001b[39;00m bound(\u001b[39m*\u001b[39margs, \u001b[39m*\u001b[39m\u001b[39m*\u001b[39mkwds)\n",
      "File \u001b[0;32m~/.pyenv/versions/3.10.4/envs/venv/lib/python3.10/site-packages/numpy/core/fromnumeric.py:47\u001b[0m, in \u001b[0;36m_wrapit\u001b[0;34m(obj, method, *args, **kwds)\u001b[0m\n\u001b[1;32m     45\u001b[0m     \u001b[39mif\u001b[39;00m \u001b[39mnot\u001b[39;00m \u001b[39misinstance\u001b[39m(result, mu\u001b[39m.\u001b[39mndarray):\n\u001b[1;32m     46\u001b[0m         result \u001b[39m=\u001b[39m asarray(result)\n\u001b[0;32m---> 47\u001b[0m     result \u001b[39m=\u001b[39m wrap(result)\n\u001b[1;32m     48\u001b[0m \u001b[39mreturn\u001b[39;00m result\n",
      "File \u001b[0;32m~/.pyenv/versions/3.10.4/envs/venv/lib/python3.10/site-packages/pandas/core/generic.py:2106\u001b[0m, in \u001b[0;36mNDFrame.__array_wrap__\u001b[0;34m(self, result, context)\u001b[0m\n\u001b[1;32m   2104\u001b[0m     \u001b[39mreturn\u001b[39;00m res\n\u001b[1;32m   2105\u001b[0m d \u001b[39m=\u001b[39m \u001b[39mself\u001b[39m\u001b[39m.\u001b[39m_construct_axes_dict(\u001b[39mself\u001b[39m\u001b[39m.\u001b[39m_AXIS_ORDERS, copy\u001b[39m=\u001b[39m\u001b[39mFalse\u001b[39;00m)\n\u001b[0;32m-> 2106\u001b[0m \u001b[39mreturn\u001b[39;00m \u001b[39mself\u001b[39;49m\u001b[39m.\u001b[39;49m_constructor(res, \u001b[39m*\u001b[39;49m\u001b[39m*\u001b[39;49md)\u001b[39m.\u001b[39m__finalize__(\u001b[39mself\u001b[39m, method\u001b[39m=\u001b[39m\u001b[39m\"\u001b[39m\u001b[39m__array_wrap__\u001b[39m\u001b[39m\"\u001b[39m)\n",
      "File \u001b[0;32m~/.pyenv/versions/3.10.4/envs/venv/lib/python3.10/site-packages/pandas/core/series.py:471\u001b[0m, in \u001b[0;36mSeries.__init__\u001b[0;34m(self, data, index, dtype, name, copy, fastpath)\u001b[0m\n\u001b[1;32m    469\u001b[0m         data \u001b[39m=\u001b[39m data\u001b[39m.\u001b[39mcopy()\n\u001b[1;32m    470\u001b[0m \u001b[39melse\u001b[39;00m:\n\u001b[0;32m--> 471\u001b[0m     data \u001b[39m=\u001b[39m sanitize_array(data, index, dtype, copy)\n\u001b[1;32m    473\u001b[0m     manager \u001b[39m=\u001b[39m get_option(\u001b[39m\"\u001b[39m\u001b[39mmode.data_manager\u001b[39m\u001b[39m\"\u001b[39m)\n\u001b[1;32m    474\u001b[0m     \u001b[39mif\u001b[39;00m manager \u001b[39m==\u001b[39m \u001b[39m\"\u001b[39m\u001b[39mblock\u001b[39m\u001b[39m\"\u001b[39m:\n",
      "File \u001b[0;32m~/.pyenv/versions/3.10.4/envs/venv/lib/python3.10/site-packages/pandas/core/construction.py:648\u001b[0m, in \u001b[0;36msanitize_array\u001b[0;34m(data, index, dtype, copy, raise_cast_failure, allow_2d)\u001b[0m\n\u001b[1;32m    645\u001b[0m             subarr \u001b[39m=\u001b[39m cast(np\u001b[39m.\u001b[39mndarray, subarr)\n\u001b[1;32m    646\u001b[0m             subarr \u001b[39m=\u001b[39m maybe_infer_to_datetimelike(subarr)\n\u001b[0;32m--> 648\u001b[0m subarr \u001b[39m=\u001b[39m _sanitize_ndim(subarr, data, dtype, index, allow_2d\u001b[39m=\u001b[39;49mallow_2d)\n\u001b[1;32m    650\u001b[0m \u001b[39mif\u001b[39;00m \u001b[39misinstance\u001b[39m(subarr, np\u001b[39m.\u001b[39mndarray):\n\u001b[1;32m    651\u001b[0m     \u001b[39m# at this point we should have dtype be None or subarr.dtype == dtype\u001b[39;00m\n\u001b[1;32m    652\u001b[0m     dtype \u001b[39m=\u001b[39m cast(np\u001b[39m.\u001b[39mdtype, dtype)\n",
      "File \u001b[0;32m~/.pyenv/versions/3.10.4/envs/venv/lib/python3.10/site-packages/pandas/core/construction.py:699\u001b[0m, in \u001b[0;36m_sanitize_ndim\u001b[0;34m(result, data, dtype, index, allow_2d)\u001b[0m\n\u001b[1;32m    697\u001b[0m     \u001b[39mif\u001b[39;00m allow_2d:\n\u001b[1;32m    698\u001b[0m         \u001b[39mreturn\u001b[39;00m result\n\u001b[0;32m--> 699\u001b[0m     \u001b[39mraise\u001b[39;00m \u001b[39mValueError\u001b[39;00m(\u001b[39m\"\u001b[39m\u001b[39mData must be 1-dimensional\u001b[39m\u001b[39m\"\u001b[39m)\n\u001b[1;32m    700\u001b[0m \u001b[39mif\u001b[39;00m is_object_dtype(dtype) \u001b[39mand\u001b[39;00m \u001b[39misinstance\u001b[39m(dtype, ExtensionDtype):\n\u001b[1;32m    701\u001b[0m     \u001b[39m# i.e. PandasDtype(\"O\")\u001b[39;00m\n\u001b[1;32m    703\u001b[0m     result \u001b[39m=\u001b[39m com\u001b[39m.\u001b[39masarray_tuplesafe(data, dtype\u001b[39m=\u001b[39mnp\u001b[39m.\u001b[39mdtype(\u001b[39m\"\u001b[39m\u001b[39mobject\u001b[39m\u001b[39m\"\u001b[39m))\n",
      "\u001b[0;31mValueError\u001b[0m: Data must be 1-dimensional"
     ]
    }
   ],
   "source": [
    "it_imp = IterativeImputer(sample_posterior=True)\n",
    "X_it_imp = it_imp.fit_transform(np.append(X, np.reshape(y, (-1, 1)), axis=1))"
   ]
  },
  {
   "cell_type": "code",
   "execution_count": null,
   "id": "b70b90f2",
   "metadata": {},
   "outputs": [],
   "source": []
  }
 ],
 "metadata": {
  "kernelspec": {
   "display_name": "Python 3.10.4 64-bit ('venv')",
   "language": "python",
   "name": "python3"
  },
  "language_info": {
   "codemirror_mode": {
    "name": "ipython",
    "version": 3
   },
   "file_extension": ".py",
   "mimetype": "text/x-python",
   "name": "python",
   "nbconvert_exporter": "python",
   "pygments_lexer": "ipython3",
   "version": "3.10.4"
  },
  "vscode": {
   "interpreter": {
    "hash": "8dd13f2fbe1223e5d6c4c95d6b263ffee649ffa84fa229737a6dafd2e915c5f2"
   }
  }
 },
 "nbformat": 4,
 "nbformat_minor": 5
}
