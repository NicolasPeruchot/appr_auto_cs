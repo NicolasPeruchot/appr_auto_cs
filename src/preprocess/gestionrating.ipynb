{
 "cells": [
  {
   "cell_type": "code",
   "execution_count": 16,
   "id": "7a528986",
   "metadata": {},
   "outputs": [],
   "source": [
    "from preprocess import drop_useless\n",
    "from sklearn.experimental import enable_iterative_imputer  # noqa\n",
    "from sklearn.impute import IterativeImputer"
   ]
  },
  {
   "cell_type": "code",
   "execution_count": 3,
   "id": "2489164a",
   "metadata": {},
   "outputs": [],
   "source": [
    "import pandas as pd\n",
    "import numpy as np\n",
    "import matplotlib.pyplot as plt\n",
    "from sklearn.datasets import make_regression\n"
   ]
  },
  {
   "cell_type": "code",
   "execution_count": 4,
   "id": "6c81679e",
   "metadata": {},
   "outputs": [],
   "source": [
    "data_test=pd.read_csv('../../data/test_airbnb_berlin.xls')\n",
    "data_train=pd.read_csv('../../data/train_airbnb_berlin.xls')"
   ]
  },
  {
   "cell_type": "code",
   "execution_count": 5,
   "id": "2bafa542",
   "metadata": {},
   "outputs": [
    {
     "name": "stdout",
     "output_type": "stream",
     "text": [
      "number row : 15692\n",
      "number columns : 39\n"
     ]
    }
   ],
   "source": [
    "#Data visualisation\n",
    "\n",
    "# computing number of rows\n",
    "rows = len(data_train.axes[0])\n",
    "print('number row :',rows)\n",
    "# computing number of columns\n",
    "cols = len(data_train.axes[1])\n",
    "print('number columns :',cols)"
   ]
  },
  {
   "cell_type": "code",
   "execution_count": 6,
   "id": "983cb1f1",
   "metadata": {},
   "outputs": [],
   "source": [
    "data_train=drop_useless(data_train)"
   ]
  },
  {
   "cell_type": "markdown",
   "id": "6e6d6ae0",
   "metadata": {},
   "source": [
    "__Gestion des features à taux de \"missing\" extrême__"
   ]
  },
  {
   "cell_type": "markdown",
   "id": "cb23f127",
   "metadata": {},
   "source": [
    "Lorsque l'on regarde les features où il manque moins de 30 données, on se rend compte que l'absence de ces données est MCAR. On se permet donc de supprimer les lignes où ces données sont manquantes. \n",
    "Il y a une exception sur la feature 'Is Superhost': si pour ces host il y a une note générale au dessus de 80, on les catégorises en Superhost, sinon, non. "
   ]
  },
  {
   "cell_type": "code",
   "execution_count": 7,
   "id": "68455134",
   "metadata": {},
   "outputs": [],
   "source": [
    "#Suppression des features à taux de missing trop élevé \n",
    "data_train=data_train.drop(['Square Feet','Host Response Time','Host Response Rate'], axis=1)"
   ]
  },
  {
   "cell_type": "code",
   "execution_count": 8,
   "id": "ed6e0ed2",
   "metadata": {},
   "outputs": [],
   "source": [
    "#Listwise deletion pour les features à taux de missing faible (borne max des rows concernés : 60 /15k = 0.4%)\n",
    "for j in ['Price','Bathrooms','Bedrooms','Beds']:\n",
    "    for i in data_train[data_train[j].isna()== True].index:\n",
    "        data_train=data_train.drop(i, axis=0)"
   ]
  },
  {
   "cell_type": "code",
   "execution_count": 9,
   "id": "6c217f0a",
   "metadata": {},
   "outputs": [],
   "source": [
    "#plus ou moins valide pour 20 personnes\n",
    "# Gestion des 'Is Superhost' : si le host est noté, et ce au dessus de 80, il est supposé superhost, sinon il ne l'est pas\n",
    "for i in data_train[data_train['Is Superhost'].isna()== True].index:\n",
    "    if data_train.loc[i,'Overall Rating']>=80:\n",
    "        data_train.loc[i,'Is Superhost']='t'\n",
    "    else:\n",
    "        data_train.loc[i,'Is Superhost']='f'"
   ]
  },
  {
   "cell_type": "markdown",
   "id": "396503ca",
   "metadata": {},
   "source": [
    "On cherche a réaliser une regression multivariate \n",
    "\n",
    "On va prédire les features \"Rating\" de deux façons : soit colonne par colonne, soit toutes les colonnes à la fois."
   ]
  },
  {
   "cell_type": "code",
   "execution_count": 11,
   "id": "296fd545",
   "metadata": {},
   "outputs": [
    {
     "data": {
      "text/plain": [
       "array(['Is Superhost', 'neighbourhood', 'Neighborhood Group', 'Latitude',\n",
       "       'Longitude', 'Property Type', 'Room Type', 'Accomodates',\n",
       "       'Bathrooms', 'Bedrooms', 'Beds', 'Guests Included', 'Min Nights',\n",
       "       'Reviews', 'Overall Rating', 'Accuracy Rating',\n",
       "       'Cleanliness Rating', 'Checkin Rating', 'Communication Rating',\n",
       "       'Location Rating', 'Value Rating', 'Instant Bookable',\n",
       "       'Business Travel Ready', 'Price'], dtype=object)"
      ]
     },
     "execution_count": 11,
     "metadata": {},
     "output_type": "execute_result"
    }
   ],
   "source": [
    "data_train.columns.values"
   ]
  },
  {
   "cell_type": "code",
   "execution_count": 14,
   "id": "3c1137ca",
   "metadata": {},
   "outputs": [],
   "source": [
    "without_ratings=data_train.drop(['Overall Rating', 'Accuracy Rating', 'Cleanliness Rating',\n",
    "       'Checkin Rating', 'Communication Rating', 'Location Rating','Value Rating'], axis=1)\n",
    "\n",
    "data_train_clean_ratings_included=data_train\n",
    "\n",
    "for j in ['Overall Rating', 'Accuracy Rating', 'Cleanliness Rating','Checkin Rating', 'Communication Rating', 'Location Rating','Value Rating']:\n",
    "       for i in data_train_clean_ratings_included[data_train_clean_ratings_included[j].isna()== True].index:\n",
    "              data_train_clean_ratings_included=data_train_clean_ratings_included.drop(i, axis=0)\n"
   ]
  },
  {
   "cell_type": "code",
   "execution_count": 20,
   "id": "9e7e5e5b",
   "metadata": {},
   "outputs": [
    {
     "ename": "ValueError",
     "evalue": "all the input arrays must have same number of dimensions, but the array at index 0 has 2 dimension(s) and the array at index 1 has 1 dimension(s)",
     "output_type": "error",
     "traceback": [
      "\u001b[1;31m---------------------------------------------------------------------------\u001b[0m",
      "\u001b[1;31mValueError\u001b[0m                                Traceback (most recent call last)",
      "Cell \u001b[1;32mIn [20], line 5\u001b[0m\n\u001b[0;32m      2\u001b[0m y\u001b[39m=\u001b[39mdata_train_clean_ratings_included[\u001b[39m'\u001b[39m\u001b[39mOverall Rating\u001b[39m\u001b[39m'\u001b[39m]\n\u001b[0;32m      4\u001b[0m it_imp \u001b[39m=\u001b[39m IterativeImputer(sample_posterior\u001b[39m=\u001b[39m\u001b[39mTrue\u001b[39;00m)\n\u001b[1;32m----> 5\u001b[0m X_it_imp \u001b[39m=\u001b[39m it_imp\u001b[39m.\u001b[39mfit_transform(np\u001b[39m.\u001b[39mappend(X, y, axis\u001b[39m=\u001b[39m\u001b[39m1\u001b[39m))\n",
      "File \u001b[1;32m<__array_function__ internals>:180\u001b[0m, in \u001b[0;36mappend\u001b[1;34m(*args, **kwargs)\u001b[0m\n",
      "File \u001b[1;32mc:\\Users\\USER\\AppData\\Local\\Programs\\Python\\Python310\\lib\\site-packages\\numpy\\lib\\function_base.py:5444\u001b[0m, in \u001b[0;36mappend\u001b[1;34m(arr, values, axis)\u001b[0m\n\u001b[0;32m   5442\u001b[0m     values \u001b[39m=\u001b[39m ravel(values)\n\u001b[0;32m   5443\u001b[0m     axis \u001b[39m=\u001b[39m arr\u001b[39m.\u001b[39mndim\u001b[39m-\u001b[39m\u001b[39m1\u001b[39m\n\u001b[1;32m-> 5444\u001b[0m \u001b[39mreturn\u001b[39;00m concatenate((arr, values), axis\u001b[39m=\u001b[39;49maxis)\n",
      "File \u001b[1;32m<__array_function__ internals>:180\u001b[0m, in \u001b[0;36mconcatenate\u001b[1;34m(*args, **kwargs)\u001b[0m\n",
      "\u001b[1;31mValueError\u001b[0m: all the input arrays must have same number of dimensions, but the array at index 0 has 2 dimension(s) and the array at index 1 has 1 dimension(s)"
     ]
    }
   ],
   "source": [
    "X=data_train_clean_ratings_included.drop(['Overall Rating', 'Accuracy Rating', 'Cleanliness Rating','Checkin Rating', 'Communication Rating', 'Location Rating','Value Rating'],axis=1)\n",
    "y=data_train_clean_ratings_included['Overall Rating']\n",
    "\n",
    "it_imp = IterativeImputer(sample_posterior=True)\n",
    "X_it_imp = it_imp.fit_transform(np.append(X, y, axis=1))\n"
   ]
  }
 ],
 "metadata": {
  "kernelspec": {
   "display_name": "Python 3.10.6 64-bit",
   "language": "python",
   "name": "python3"
  },
  "language_info": {
   "codemirror_mode": {
    "name": "ipython",
    "version": 3
   },
   "file_extension": ".py",
   "mimetype": "text/x-python",
   "name": "python",
   "nbconvert_exporter": "python",
   "pygments_lexer": "ipython3",
   "version": "3.10.6"
  },
  "vscode": {
   "interpreter": {
    "hash": "df95319d8ce4e1d89f5365ae10992bc1f65da593082b1d264e8f529830ec2f02"
   }
  }
 },
 "nbformat": 4,
 "nbformat_minor": 5
}
