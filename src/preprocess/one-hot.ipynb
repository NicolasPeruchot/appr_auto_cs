{
 "cells": [
  {
   "cell_type": "markdown",
   "metadata": {},
   "source": [
    "__One-hot encoding to handle categorical values__"
   ]
  },
  {
   "cell_type": "code",
   "execution_count": 35,
   "metadata": {},
   "outputs": [],
   "source": [
    "from pandas import read_csv\n",
    "import pandas as pd\n",
    "\n",
    "\n",
    "data_train = read_csv(\"../../data/data_train_clean_ratings_included.csv\")"
   ]
  },
  {
   "cell_type": "code",
   "execution_count": 36,
   "metadata": {},
   "outputs": [
    {
     "data": {
      "text/plain": [
       "Listing ID               float64\n",
       "Is Superhost              object\n",
       "neighbourhood             object\n",
       "Neighborhood Group        object\n",
       "Latitude                 float64\n",
       "Longitude                float64\n",
       "Property Type             object\n",
       "Room Type                 object\n",
       "Accomodates               object\n",
       "Bathrooms                 object\n",
       "Bedrooms                  object\n",
       "Beds                      object\n",
       "Guests Included           object\n",
       "Min Nights                object\n",
       "Reviews                    int64\n",
       "Overall Rating           float64\n",
       "Accuracy Rating          float64\n",
       "Cleanliness Rating       float64\n",
       "Checkin Rating           float64\n",
       "Communication Rating     float64\n",
       "Location Rating          float64\n",
       "Value Rating             float64\n",
       "Instant Bookable          object\n",
       "Business Travel Ready     object\n",
       "Price                    float64\n",
       "dtype: object"
      ]
     },
     "execution_count": 36,
     "metadata": {},
     "output_type": "execute_result"
    }
   ],
   "source": [
    "# Let's look at the categorical columns\n",
    "\n",
    "data_train.dtypes\n",
    "\n",
    "#data_train.head(5)\n"
   ]
  },
  {
   "cell_type": "markdown",
   "metadata": {},
   "source": [
    "Actually, the following columns are object but should be floats, let's convert them:\n",
    "Accomodates, Bathrooms, "
   ]
  },
  {
   "cell_type": "code",
   "execution_count": 40,
   "metadata": {},
   "outputs": [
    {
     "name": "stdout",
     "output_type": "stream",
     "text": [
      "['Is Superhost', 'neighbourhood', 'Neighborhood Group', 'Property Type', 'Room Type', 'Accomodates', 'Bathrooms', 'Bedrooms', 'Beds', 'Guests Included', 'Min Nights', 'Instant Bookable', 'Business Travel Ready']\n"
     ]
    }
   ],
   "source": [
    "list_columns_categ = list(data_train.select_dtypes(['object']).columns)\n",
    "\n",
    "print(list_columns_categ)"
   ]
  },
  {
   "cell_type": "code",
   "execution_count": 46,
   "metadata": {},
   "outputs": [
    {
     "name": "stdout",
     "output_type": "stream",
     "text": [
      "0        2\n",
      "1        2\n",
      "2        3\n",
      "3        2\n",
      "4        3\n",
      "        ..\n",
      "12691    1\n",
      "12692    2\n",
      "12693    2\n",
      "12694    8\n",
      "12695    4\n",
      "Name: Accomodates, Length: 12696, dtype: object\n",
      "0        1.0\n",
      "1        1.0\n",
      "2        1.0\n",
      "3        1.0\n",
      "4        1.0\n",
      "        ... \n",
      "12691    1.0\n",
      "12692    1.0\n",
      "12693    1.5\n",
      "12694    2.0\n",
      "12695    1.0\n",
      "Name: Bathrooms, Length: 12696, dtype: object\n",
      "0        1.0\n",
      "1        2.0\n",
      "2        1.0\n",
      "3        1.0\n",
      "4        1.0\n",
      "        ... \n",
      "12691    1.0\n",
      "12692    1.0\n",
      "12693    1.0\n",
      "12694    3.0\n",
      "12695    1.0\n",
      "Name: Bedrooms, Length: 12696, dtype: object\n",
      "0        1.0\n",
      "1        2.0\n",
      "2        2.0\n",
      "3        1.0\n",
      "4        2.0\n",
      "        ... \n",
      "12691    1.0\n",
      "12692    1.0\n",
      "12693    1.0\n",
      "12694    5.0\n",
      "12695    2.0\n",
      "Name: Beds, Length: 12696, dtype: object\n",
      "0        1\n",
      "1        2\n",
      "2        1\n",
      "3        1\n",
      "4        2\n",
      "        ..\n",
      "12691    1\n",
      "12692    1\n",
      "12693    1\n",
      "12694    1\n",
      "12695    2\n",
      "Name: Guests Included, Length: 12696, dtype: object\n",
      "0        2\n",
      "1        7\n",
      "2        1\n",
      "3        2\n",
      "4        1\n",
      "        ..\n",
      "12691    5\n",
      "12692    1\n",
      "12693    6\n",
      "12694    1\n",
      "12695    1\n",
      "Name: Min Nights, Length: 12696, dtype: object\n",
      "0      2.0\n",
      "1      2.0\n",
      "2      3.0\n",
      "3      2.0\n",
      "4      3.0\n",
      "      ... \n",
      "696    4.0\n",
      "697    3.0\n",
      "698    2.0\n",
      "699    2.0\n",
      "700    2.0\n",
      "Name: Accomodates, Length: 701, dtype: float64\n"
     ]
    }
   ],
   "source": [
    "# for column in list_columns_categ:\n",
    "#     print(data_train[column])\n",
    "\n",
    "\n",
    "columns_to_convert = [\"Accomodates\", \"Bathrooms\", \"Bedrooms\", \"Beds\", \"Guests Included\", \"Min Nights\"]\n",
    "\n",
    "for column in columns_to_convert:\n",
    "    # data_train.astype({column: 'float64'})\n",
    "    print(data_train[column])\n",
    "\n",
    "print(data_train[\"Accomodates\"].loc[:700].astype(float))"
   ]
  }
 ],
 "metadata": {
  "kernelspec": {
   "display_name": "Python 3.8.5 ('base')",
   "language": "python",
   "name": "python3"
  },
  "language_info": {
   "codemirror_mode": {
    "name": "ipython",
    "version": 3
   },
   "file_extension": ".py",
   "mimetype": "text/x-python",
   "name": "python",
   "nbconvert_exporter": "python",
   "pygments_lexer": "ipython3",
   "version": "3.8.5"
  },
  "orig_nbformat": 4,
  "vscode": {
   "interpreter": {
    "hash": "d353b0c5e377b70cf8d68715abfc75cf273a5427d1952db2f540f22618aa254a"
   }
  }
 },
 "nbformat": 4,
 "nbformat_minor": 2
}
