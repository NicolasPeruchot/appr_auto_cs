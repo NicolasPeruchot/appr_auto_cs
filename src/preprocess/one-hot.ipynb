{
 "cells": [
  {
   "cell_type": "markdown",
   "metadata": {},
   "source": [
    "__One-hot encoding to handle categorical values__"
   ]
  },
  {
   "cell_type": "code",
   "execution_count": 1,
   "metadata": {},
   "outputs": [],
   "source": [
    "import pandas as pd\n",
    "from preprocess import CustomOneHotEncoder\n",
    "from sklearn.decomposition import PCA\n",
    "\n",
    "data_train_without_ratings = pd.read_csv(\"../../data/data_train_clean.csv\")\n",
    "data_train_ratings = pd.read_csv(\"../../data/data_train_clean_ratings_included.csv\")"
   ]
  },
  {
   "cell_type": "code",
   "execution_count": 2,
   "metadata": {},
   "outputs": [],
   "source": [
    "\n",
    "onehotencoder = CustomOneHotEncoder()\n",
    "onehotencoder.fit(data_train_without_ratings)\n",
    "data=onehotencoder.transform(data_train_without_ratings)\n",
    "\n",
    "\n",
    "# data_train_ratings.to_csv('../../data/data_train_onehot_ratings.csv',index=False)\n"
   ]
  },
  {
   "cell_type": "code",
   "execution_count": 3,
   "metadata": {},
   "outputs": [],
   "source": [
    "# n_components : pourcentage de variance à conserver\n",
    "\n",
    "pca = PCA(n_components=0.99)\n"
   ]
  },
  {
   "cell_type": "code",
   "execution_count": 4,
   "metadata": {},
   "outputs": [],
   "source": [
    "data.drop(columns=['Price'],inplace=True)"
   ]
  },
  {
   "cell_type": "code",
   "execution_count": 5,
   "metadata": {},
   "outputs": [],
   "source": [
    "data_transform=pca.fit_transform(data)\n"
   ]
  }
 ],
 "metadata": {
  "kernelspec": {
   "display_name": "Python 3.10.6 ('venv': venv)",
   "language": "python",
   "name": "python3"
  },
  "language_info": {
   "codemirror_mode": {
    "name": "ipython",
    "version": 3
   },
   "file_extension": ".py",
   "mimetype": "text/x-python",
   "name": "python",
   "nbconvert_exporter": "python",
   "pygments_lexer": "ipython3",
   "version": "3.10.6"
  },
  "orig_nbformat": 4,
  "vscode": {
   "interpreter": {
    "hash": "480d840c0aa0f0203e8d364e43264ca3f3b831f672cf37a9dc1d0850271fbd46"
   }
  }
 },
 "nbformat": 4,
 "nbformat_minor": 2
}
