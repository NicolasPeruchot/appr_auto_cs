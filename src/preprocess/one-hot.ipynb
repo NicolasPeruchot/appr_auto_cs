{
 "cells": [
  {
   "cell_type": "markdown",
   "metadata": {},
   "source": [
    "__One-hot encoding to handle categorical values__"
   ]
  },
  {
   "cell_type": "code",
   "execution_count": 2,
   "metadata": {},
   "outputs": [],
   "source": [
    "from pandas import read_csv\n",
    "import pandas as pd\n",
    "\n",
    "data_train_without_ratings = read_csv(\"../../data/data_train_clean_ratings_included.csv\")\n",
    "data_train_ratings = read_csv(\"../../data/data_train_clean_ratings_included.csv\")"
   ]
  },
  {
   "cell_type": "code",
   "execution_count": 3,
   "metadata": {},
   "outputs": [
    {
     "data": {
      "text/plain": [
       "Is Superhost              object\n",
       "neighbourhood             object\n",
       "Neighborhood Group        object\n",
       "Latitude                 float64\n",
       "Longitude                float64\n",
       "Property Type             object\n",
       "Room Type                 object\n",
       "Accomodates              float64\n",
       "Bathrooms                float64\n",
       "Bedrooms                 float64\n",
       "Beds                     float64\n",
       "Guests Included          float64\n",
       "Min Nights               float64\n",
       "Reviews                    int64\n",
       "Overall Rating           float64\n",
       "Accuracy Rating          float64\n",
       "Cleanliness Rating       float64\n",
       "Checkin Rating           float64\n",
       "Communication Rating     float64\n",
       "Location Rating          float64\n",
       "Value Rating             float64\n",
       "Instant Bookable          object\n",
       "Business Travel Ready     object\n",
       "Price                    float64\n",
       "dtype: object"
      ]
     },
     "execution_count": 3,
     "metadata": {},
     "output_type": "execute_result"
    }
   ],
   "source": [
    "# Let's look at the categorical columns\n",
    "\n",
    "data_train_ratings.dtypes\n",
    "# data_train_without_ratings.dtypes\n",
    "\n",
    "#data_train.head(5)\n"
   ]
  },
  {
   "cell_type": "markdown",
   "metadata": {},
   "source": [
    "Actually, the following columns are object but should be floats, let's convert them:\n",
    "Accomodates, Bathrooms, "
   ]
  },
  {
   "cell_type": "code",
   "execution_count": 6,
   "metadata": {},
   "outputs": [
    {
     "name": "stdout",
     "output_type": "stream",
     "text": [
      "['Is Superhost', 'neighbourhood', 'Neighborhood Group', 'Property Type', 'Room Type', 'Instant Bookable', 'Business Travel Ready']\n",
      "['Is Superhost', 'neighbourhood', 'Neighborhood Group', 'Property Type', 'Room Type', 'Instant Bookable', 'Business Travel Ready']\n"
     ]
    }
   ],
   "source": [
    "list_columns_ratings_categ = list(data_train_ratings.select_dtypes(['object']).columns)\n",
    "list_columns_nnratings_categ = list(data_train_without_ratings.select_dtypes(['object']).columns)\n",
    "\n",
    "print(list_columns_ratings_categ)\n",
    "print(list_columns_nnratings_categ)"
   ]
  },
  {
   "cell_type": "code",
   "execution_count": 7,
   "metadata": {},
   "outputs": [],
   "source": [
    "# for column in list_columns_categ:\n",
    "#     print(data_train[column])\n",
    "\n",
    "\n",
    "columns_to_convert = [\"Accomodates\", \"Bathrooms\", \"Bedrooms\", \"Beds\", \"Guests Included\", \"Min Nights\"]\n",
    "\n",
    "for column in columns_to_convert:\n",
    "    data_train_ratings.astype({column: 'float64'})\n",
    "    data_train_without_ratings.astype({column: 'float64'})\n"
   ]
  },
  {
   "cell_type": "markdown",
   "metadata": {},
   "source": [
    "Vérifions que nous avons bien converti les colonnes et qu'il ne reste que des colonnes vraiment catégorielles"
   ]
  },
  {
   "cell_type": "code",
   "execution_count": 8,
   "metadata": {},
   "outputs": [
    {
     "data": {
      "text/plain": [
       "Is Superhost              object\n",
       "neighbourhood             object\n",
       "Neighborhood Group        object\n",
       "Latitude                 float64\n",
       "Longitude                float64\n",
       "Property Type             object\n",
       "Room Type                 object\n",
       "Accomodates              float64\n",
       "Bathrooms                float64\n",
       "Bedrooms                 float64\n",
       "Beds                     float64\n",
       "Guests Included          float64\n",
       "Min Nights               float64\n",
       "Reviews                    int64\n",
       "Overall Rating           float64\n",
       "Accuracy Rating          float64\n",
       "Cleanliness Rating       float64\n",
       "Checkin Rating           float64\n",
       "Communication Rating     float64\n",
       "Location Rating          float64\n",
       "Value Rating             float64\n",
       "Instant Bookable          object\n",
       "Business Travel Ready     object\n",
       "Price                    float64\n",
       "dtype: object"
      ]
     },
     "execution_count": 8,
     "metadata": {},
     "output_type": "execute_result"
    }
   ],
   "source": [
    "data_train_ratings.dtypes\n",
    "data_train_without_ratings.dtypes"
   ]
  },
  {
   "cell_type": "markdown",
   "metadata": {},
   "source": [
    "Appliquons à présent le one-hot encoding aux colonnes catégorielles restantes"
   ]
  },
  {
   "cell_type": "code",
   "execution_count": 21,
   "metadata": {},
   "outputs": [
    {
     "name": "stdout",
     "output_type": "stream",
     "text": [
      "['Is Superhost', 'neighbourhood', 'Neighborhood Group', 'Property Type', 'Room Type', 'Instant Bookable', 'Business Travel Ready']\n"
     ]
    }
   ],
   "source": [
    "# récupérons les listes des colonnes catégorielles\n",
    "list_columns_categ_ratings = list(data_train_ratings.select_dtypes(['object']).columns)\n",
    "list_columns_categ_without_ratings = list(data_train_without_ratings.select_dtypes(['object']).columns)\n",
    "print(list_columns_categ_ratings)\n",
    "\n",
    "dummies_ratings = pd.get_dummies(data_train_ratings[list_columns_categ_ratings])\n",
    "dummies_without_ratings = pd.get_dummies(data_train_without_ratings[list_columns_categ_without_ratings])\n",
    "\n",
    "# extract the numeric columns of the dataset\n",
    "# drop the target feature : Price\n",
    "data_train_non_categ_ratings = data_train_ratings.drop(list_columns_categ_ratings+['Price'], axis=1).astype('float64')\n",
    "data_train_non_categ_without_ratings = data_train_without_ratings.drop(list_columns_categ_without_ratings+['Price'], axis=1).astype('float64')\n",
    "\n",
    "\n",
    "# concatenate the originaly numeric columns to the dummies (one-hot numeric values that represent the categorical ones)\n",
    "data_train_ratings = pd.concat([data_train_non_categ_ratings, dummies_ratings], axis=1)\n",
    "data_train_without_ratings = pd.concat([data_train_non_categ_without_ratings, dummies_without_ratings], axis=1)\n"
   ]
  },
  {
   "cell_type": "code",
   "execution_count": null,
   "metadata": {},
   "outputs": [],
   "source": [
    "data_train_ratings.to_csv('../../data/data_train_onehot_ratings.csv',index=False)\n",
    "\n",
    "data_train_without_ratings.to_csv('../../data/data_train_onehot_without_ratings.csv',index=False)"
   ]
  }
 ],
 "metadata": {
  "kernelspec": {
   "display_name": "Python 3.8.5 ('base')",
   "language": "python",
   "name": "python3"
  },
  "language_info": {
   "codemirror_mode": {
    "name": "ipython",
    "version": 3
   },
   "file_extension": ".py",
   "mimetype": "text/x-python",
   "name": "python",
   "nbconvert_exporter": "python",
   "pygments_lexer": "ipython3",
   "version": "3.8.5"
  },
  "orig_nbformat": 4,
  "vscode": {
   "interpreter": {
    "hash": "d353b0c5e377b70cf8d68715abfc75cf273a5427d1952db2f540f22618aa254a"
   }
  }
 },
 "nbformat": 4,
 "nbformat_minor": 2
}
